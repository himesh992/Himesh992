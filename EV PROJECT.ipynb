{
  "nbformat": 4,
  "nbformat_minor": 0,
  "metadata": {
    "colab": {
      "provenance": [],
      "authorship_tag": "ABX9TyNttnUp5U51SivT4ncLoM51",
      "include_colab_link": true
    },
    "kernelspec": {
      "name": "python3",
      "display_name": "Python 3"
    },
    "language_info": {
      "name": "python"
    }
  },
  "cells": [
    {
      "cell_type": "markdown",
      "metadata": {
        "id": "view-in-github",
        "colab_type": "text"
      },
      "source": [
        "<a href=\"https://colab.research.google.com/github/himesh992/Himesh992/blob/main/EV_MARKET_FEYN_LAB_PROJECT.ipynb\" target=\"_parent\"><img src=\"https://colab.research.google.com/assets/colab-badge.svg\" alt=\"Open In Colab\"/></a>"
      ]
    },
    {
      "cell_type": "code",
      "source": [
        "import pandas as pd\n",
        "import numpy as np\n",
        "import matplotlib.pyplot as plt\n",
        "import seaborn as sns\n"
      ],
      "metadata": {
        "id": "E-Csomf3aYYs"
      },
      "execution_count": null,
      "outputs": []
    },
    {
      "cell_type": "code",
      "execution_count": null,
      "metadata": {
        "colab": {
          "base_uri": "https://localhost:8080/",
          "height": 73
        },
        "id": "jP0wYX81aUJs",
        "outputId": "73fc7c60-81ab-4de6-cee0-7d9147a4fdbe"
      },
      "outputs": [
        {
          "output_type": "display_data",
          "data": {
            "text/plain": [
              "<IPython.core.display.HTML object>"
            ],
            "text/html": [
              "\n",
              "     <input type=\"file\" id=\"files-f2220a6f-6d58-4314-a1ea-f8806f7aa314\" name=\"files[]\" multiple disabled\n",
              "        style=\"border:none\" />\n",
              "     <output id=\"result-f2220a6f-6d58-4314-a1ea-f8806f7aa314\">\n",
              "      Upload widget is only available when the cell has been executed in the\n",
              "      current browser session. Please rerun this cell to enable.\n",
              "      </output>\n",
              "      <script>// Copyright 2017 Google LLC\n",
              "//\n",
              "// Licensed under the Apache License, Version 2.0 (the \"License\");\n",
              "// you may not use this file except in compliance with the License.\n",
              "// You may obtain a copy of the License at\n",
              "//\n",
              "//      http://www.apache.org/licenses/LICENSE-2.0\n",
              "//\n",
              "// Unless required by applicable law or agreed to in writing, software\n",
              "// distributed under the License is distributed on an \"AS IS\" BASIS,\n",
              "// WITHOUT WARRANTIES OR CONDITIONS OF ANY KIND, either express or implied.\n",
              "// See the License for the specific language governing permissions and\n",
              "// limitations under the License.\n",
              "\n",
              "/**\n",
              " * @fileoverview Helpers for google.colab Python module.\n",
              " */\n",
              "(function(scope) {\n",
              "function span(text, styleAttributes = {}) {\n",
              "  const element = document.createElement('span');\n",
              "  element.textContent = text;\n",
              "  for (const key of Object.keys(styleAttributes)) {\n",
              "    element.style[key] = styleAttributes[key];\n",
              "  }\n",
              "  return element;\n",
              "}\n",
              "\n",
              "// Max number of bytes which will be uploaded at a time.\n",
              "const MAX_PAYLOAD_SIZE = 100 * 1024;\n",
              "\n",
              "function _uploadFiles(inputId, outputId) {\n",
              "  const steps = uploadFilesStep(inputId, outputId);\n",
              "  const outputElement = document.getElementById(outputId);\n",
              "  // Cache steps on the outputElement to make it available for the next call\n",
              "  // to uploadFilesContinue from Python.\n",
              "  outputElement.steps = steps;\n",
              "\n",
              "  return _uploadFilesContinue(outputId);\n",
              "}\n",
              "\n",
              "// This is roughly an async generator (not supported in the browser yet),\n",
              "// where there are multiple asynchronous steps and the Python side is going\n",
              "// to poll for completion of each step.\n",
              "// This uses a Promise to block the python side on completion of each step,\n",
              "// then passes the result of the previous step as the input to the next step.\n",
              "function _uploadFilesContinue(outputId) {\n",
              "  const outputElement = document.getElementById(outputId);\n",
              "  const steps = outputElement.steps;\n",
              "\n",
              "  const next = steps.next(outputElement.lastPromiseValue);\n",
              "  return Promise.resolve(next.value.promise).then((value) => {\n",
              "    // Cache the last promise value to make it available to the next\n",
              "    // step of the generator.\n",
              "    outputElement.lastPromiseValue = value;\n",
              "    return next.value.response;\n",
              "  });\n",
              "}\n",
              "\n",
              "/**\n",
              " * Generator function which is called between each async step of the upload\n",
              " * process.\n",
              " * @param {string} inputId Element ID of the input file picker element.\n",
              " * @param {string} outputId Element ID of the output display.\n",
              " * @return {!Iterable<!Object>} Iterable of next steps.\n",
              " */\n",
              "function* uploadFilesStep(inputId, outputId) {\n",
              "  const inputElement = document.getElementById(inputId);\n",
              "  inputElement.disabled = false;\n",
              "\n",
              "  const outputElement = document.getElementById(outputId);\n",
              "  outputElement.innerHTML = '';\n",
              "\n",
              "  const pickedPromise = new Promise((resolve) => {\n",
              "    inputElement.addEventListener('change', (e) => {\n",
              "      resolve(e.target.files);\n",
              "    });\n",
              "  });\n",
              "\n",
              "  const cancel = document.createElement('button');\n",
              "  inputElement.parentElement.appendChild(cancel);\n",
              "  cancel.textContent = 'Cancel upload';\n",
              "  const cancelPromise = new Promise((resolve) => {\n",
              "    cancel.onclick = () => {\n",
              "      resolve(null);\n",
              "    };\n",
              "  });\n",
              "\n",
              "  // Wait for the user to pick the files.\n",
              "  const files = yield {\n",
              "    promise: Promise.race([pickedPromise, cancelPromise]),\n",
              "    response: {\n",
              "      action: 'starting',\n",
              "    }\n",
              "  };\n",
              "\n",
              "  cancel.remove();\n",
              "\n",
              "  // Disable the input element since further picks are not allowed.\n",
              "  inputElement.disabled = true;\n",
              "\n",
              "  if (!files) {\n",
              "    return {\n",
              "      response: {\n",
              "        action: 'complete',\n",
              "      }\n",
              "    };\n",
              "  }\n",
              "\n",
              "  for (const file of files) {\n",
              "    const li = document.createElement('li');\n",
              "    li.append(span(file.name, {fontWeight: 'bold'}));\n",
              "    li.append(span(\n",
              "        `(${file.type || 'n/a'}) - ${file.size} bytes, ` +\n",
              "        `last modified: ${\n",
              "            file.lastModifiedDate ? file.lastModifiedDate.toLocaleDateString() :\n",
              "                                    'n/a'} - `));\n",
              "    const percent = span('0% done');\n",
              "    li.appendChild(percent);\n",
              "\n",
              "    outputElement.appendChild(li);\n",
              "\n",
              "    const fileDataPromise = new Promise((resolve) => {\n",
              "      const reader = new FileReader();\n",
              "      reader.onload = (e) => {\n",
              "        resolve(e.target.result);\n",
              "      };\n",
              "      reader.readAsArrayBuffer(file);\n",
              "    });\n",
              "    // Wait for the data to be ready.\n",
              "    let fileData = yield {\n",
              "      promise: fileDataPromise,\n",
              "      response: {\n",
              "        action: 'continue',\n",
              "      }\n",
              "    };\n",
              "\n",
              "    // Use a chunked sending to avoid message size limits. See b/62115660.\n",
              "    let position = 0;\n",
              "    do {\n",
              "      const length = Math.min(fileData.byteLength - position, MAX_PAYLOAD_SIZE);\n",
              "      const chunk = new Uint8Array(fileData, position, length);\n",
              "      position += length;\n",
              "\n",
              "      const base64 = btoa(String.fromCharCode.apply(null, chunk));\n",
              "      yield {\n",
              "        response: {\n",
              "          action: 'append',\n",
              "          file: file.name,\n",
              "          data: base64,\n",
              "        },\n",
              "      };\n",
              "\n",
              "      let percentDone = fileData.byteLength === 0 ?\n",
              "          100 :\n",
              "          Math.round((position / fileData.byteLength) * 100);\n",
              "      percent.textContent = `${percentDone}% done`;\n",
              "\n",
              "    } while (position < fileData.byteLength);\n",
              "  }\n",
              "\n",
              "  // All done.\n",
              "  yield {\n",
              "    response: {\n",
              "      action: 'complete',\n",
              "    }\n",
              "  };\n",
              "}\n",
              "\n",
              "scope.google = scope.google || {};\n",
              "scope.google.colab = scope.google.colab || {};\n",
              "scope.google.colab._files = {\n",
              "  _uploadFiles,\n",
              "  _uploadFilesContinue,\n",
              "};\n",
              "})(self);\n",
              "</script> "
            ]
          },
          "metadata": {}
        },
        {
          "output_type": "stream",
          "name": "stdout",
          "text": [
            "Saving test-data.csv to test-data.csv\n"
          ]
        }
      ],
      "source": [
        "#LOAD THE DATA\n",
        "from google.colab import files ;upload = files.upload()"
      ]
    },
    {
      "cell_type": "code",
      "source": [
        "df = pd.read_csv(\"test-data.csv\")\n",
        "\n",
        "df.head()"
      ],
      "metadata": {
        "colab": {
          "base_uri": "https://localhost:8080/",
          "height": 206
        },
        "id": "-BUnM87kaW9e",
        "outputId": "65b2394f-4224-4387-cf25-ec59e0ffd448"
      },
      "execution_count": null,
      "outputs": [
        {
          "output_type": "execute_result",
          "data": {
            "text/plain": [
              "   Unnamed: 0                                       Name    Location  Year  \\\n",
              "0           0                    Maruti Alto K10 LXI CNG       Delhi  2014   \n",
              "1           1              Maruti Alto 800 2016-2019 LXI  Coimbatore  2013   \n",
              "2           2  Toyota Innova Crysta Touring Sport 2.4 MT      Mumbai  2017   \n",
              "3           3                       Toyota Etios Liva GD   Hyderabad  2012   \n",
              "4           4                          Hyundai i20 Magna      Mumbai  2014   \n",
              "\n",
              "   Kilometers_Driven Fuel_Type Transmission Owner_Type      Mileage   Engine  \\\n",
              "0              40929       CNG       Manual      First  32.26 km/kg   998 CC   \n",
              "1              54493    Petrol       Manual     Second    24.7 kmpl   796 CC   \n",
              "2              34000    Diesel       Manual      First   13.68 kmpl  2393 CC   \n",
              "3             139000    Diesel       Manual      First   23.59 kmpl  1364 CC   \n",
              "4              29000    Petrol       Manual      First    18.5 kmpl  1197 CC   \n",
              "\n",
              "       Power  Seats   New_Price  \n",
              "0   58.2 bhp    4.0         NaN  \n",
              "1   47.3 bhp    5.0         NaN  \n",
              "2  147.8 bhp    7.0  25.27 Lakh  \n",
              "3   null bhp    5.0         NaN  \n",
              "4  82.85 bhp    5.0         NaN  "
            ],
            "text/html": [
              "\n",
              "  <div id=\"df-e9e39b30-6942-40c7-9d66-e77f8bd77724\" class=\"colab-df-container\">\n",
              "    <div>\n",
              "<style scoped>\n",
              "    .dataframe tbody tr th:only-of-type {\n",
              "        vertical-align: middle;\n",
              "    }\n",
              "\n",
              "    .dataframe tbody tr th {\n",
              "        vertical-align: top;\n",
              "    }\n",
              "\n",
              "    .dataframe thead th {\n",
              "        text-align: right;\n",
              "    }\n",
              "</style>\n",
              "<table border=\"1\" class=\"dataframe\">\n",
              "  <thead>\n",
              "    <tr style=\"text-align: right;\">\n",
              "      <th></th>\n",
              "      <th>Unnamed: 0</th>\n",
              "      <th>Name</th>\n",
              "      <th>Location</th>\n",
              "      <th>Year</th>\n",
              "      <th>Kilometers_Driven</th>\n",
              "      <th>Fuel_Type</th>\n",
              "      <th>Transmission</th>\n",
              "      <th>Owner_Type</th>\n",
              "      <th>Mileage</th>\n",
              "      <th>Engine</th>\n",
              "      <th>Power</th>\n",
              "      <th>Seats</th>\n",
              "      <th>New_Price</th>\n",
              "    </tr>\n",
              "  </thead>\n",
              "  <tbody>\n",
              "    <tr>\n",
              "      <th>0</th>\n",
              "      <td>0</td>\n",
              "      <td>Maruti Alto K10 LXI CNG</td>\n",
              "      <td>Delhi</td>\n",
              "      <td>2014</td>\n",
              "      <td>40929</td>\n",
              "      <td>CNG</td>\n",
              "      <td>Manual</td>\n",
              "      <td>First</td>\n",
              "      <td>32.26 km/kg</td>\n",
              "      <td>998 CC</td>\n",
              "      <td>58.2 bhp</td>\n",
              "      <td>4.0</td>\n",
              "      <td>NaN</td>\n",
              "    </tr>\n",
              "    <tr>\n",
              "      <th>1</th>\n",
              "      <td>1</td>\n",
              "      <td>Maruti Alto 800 2016-2019 LXI</td>\n",
              "      <td>Coimbatore</td>\n",
              "      <td>2013</td>\n",
              "      <td>54493</td>\n",
              "      <td>Petrol</td>\n",
              "      <td>Manual</td>\n",
              "      <td>Second</td>\n",
              "      <td>24.7 kmpl</td>\n",
              "      <td>796 CC</td>\n",
              "      <td>47.3 bhp</td>\n",
              "      <td>5.0</td>\n",
              "      <td>NaN</td>\n",
              "    </tr>\n",
              "    <tr>\n",
              "      <th>2</th>\n",
              "      <td>2</td>\n",
              "      <td>Toyota Innova Crysta Touring Sport 2.4 MT</td>\n",
              "      <td>Mumbai</td>\n",
              "      <td>2017</td>\n",
              "      <td>34000</td>\n",
              "      <td>Diesel</td>\n",
              "      <td>Manual</td>\n",
              "      <td>First</td>\n",
              "      <td>13.68 kmpl</td>\n",
              "      <td>2393 CC</td>\n",
              "      <td>147.8 bhp</td>\n",
              "      <td>7.0</td>\n",
              "      <td>25.27 Lakh</td>\n",
              "    </tr>\n",
              "    <tr>\n",
              "      <th>3</th>\n",
              "      <td>3</td>\n",
              "      <td>Toyota Etios Liva GD</td>\n",
              "      <td>Hyderabad</td>\n",
              "      <td>2012</td>\n",
              "      <td>139000</td>\n",
              "      <td>Diesel</td>\n",
              "      <td>Manual</td>\n",
              "      <td>First</td>\n",
              "      <td>23.59 kmpl</td>\n",
              "      <td>1364 CC</td>\n",
              "      <td>null bhp</td>\n",
              "      <td>5.0</td>\n",
              "      <td>NaN</td>\n",
              "    </tr>\n",
              "    <tr>\n",
              "      <th>4</th>\n",
              "      <td>4</td>\n",
              "      <td>Hyundai i20 Magna</td>\n",
              "      <td>Mumbai</td>\n",
              "      <td>2014</td>\n",
              "      <td>29000</td>\n",
              "      <td>Petrol</td>\n",
              "      <td>Manual</td>\n",
              "      <td>First</td>\n",
              "      <td>18.5 kmpl</td>\n",
              "      <td>1197 CC</td>\n",
              "      <td>82.85 bhp</td>\n",
              "      <td>5.0</td>\n",
              "      <td>NaN</td>\n",
              "    </tr>\n",
              "  </tbody>\n",
              "</table>\n",
              "</div>\n",
              "    <div class=\"colab-df-buttons\">\n",
              "\n",
              "  <div class=\"colab-df-container\">\n",
              "    <button class=\"colab-df-convert\" onclick=\"convertToInteractive('df-e9e39b30-6942-40c7-9d66-e77f8bd77724')\"\n",
              "            title=\"Convert this dataframe to an interactive table.\"\n",
              "            style=\"display:none;\">\n",
              "\n",
              "  <svg xmlns=\"http://www.w3.org/2000/svg\" height=\"24px\" viewBox=\"0 -960 960 960\">\n",
              "    <path d=\"M120-120v-720h720v720H120Zm60-500h600v-160H180v160Zm220 220h160v-160H400v160Zm0 220h160v-160H400v160ZM180-400h160v-160H180v160Zm440 0h160v-160H620v160ZM180-180h160v-160H180v160Zm440 0h160v-160H620v160Z\"/>\n",
              "  </svg>\n",
              "    </button>\n",
              "\n",
              "  <style>\n",
              "    .colab-df-container {\n",
              "      display:flex;\n",
              "      gap: 12px;\n",
              "    }\n",
              "\n",
              "    .colab-df-convert {\n",
              "      background-color: #E8F0FE;\n",
              "      border: none;\n",
              "      border-radius: 50%;\n",
              "      cursor: pointer;\n",
              "      display: none;\n",
              "      fill: #1967D2;\n",
              "      height: 32px;\n",
              "      padding: 0 0 0 0;\n",
              "      width: 32px;\n",
              "    }\n",
              "\n",
              "    .colab-df-convert:hover {\n",
              "      background-color: #E2EBFA;\n",
              "      box-shadow: 0px 1px 2px rgba(60, 64, 67, 0.3), 0px 1px 3px 1px rgba(60, 64, 67, 0.15);\n",
              "      fill: #174EA6;\n",
              "    }\n",
              "\n",
              "    .colab-df-buttons div {\n",
              "      margin-bottom: 4px;\n",
              "    }\n",
              "\n",
              "    [theme=dark] .colab-df-convert {\n",
              "      background-color: #3B4455;\n",
              "      fill: #D2E3FC;\n",
              "    }\n",
              "\n",
              "    [theme=dark] .colab-df-convert:hover {\n",
              "      background-color: #434B5C;\n",
              "      box-shadow: 0px 1px 3px 1px rgba(0, 0, 0, 0.15);\n",
              "      filter: drop-shadow(0px 1px 2px rgba(0, 0, 0, 0.3));\n",
              "      fill: #FFFFFF;\n",
              "    }\n",
              "  </style>\n",
              "\n",
              "    <script>\n",
              "      const buttonEl =\n",
              "        document.querySelector('#df-e9e39b30-6942-40c7-9d66-e77f8bd77724 button.colab-df-convert');\n",
              "      buttonEl.style.display =\n",
              "        google.colab.kernel.accessAllowed ? 'block' : 'none';\n",
              "\n",
              "      async function convertToInteractive(key) {\n",
              "        const element = document.querySelector('#df-e9e39b30-6942-40c7-9d66-e77f8bd77724');\n",
              "        const dataTable =\n",
              "          await google.colab.kernel.invokeFunction('convertToInteractive',\n",
              "                                                    [key], {});\n",
              "        if (!dataTable) return;\n",
              "\n",
              "        const docLinkHtml = 'Like what you see? Visit the ' +\n",
              "          '<a target=\"_blank\" href=https://colab.research.google.com/notebooks/data_table.ipynb>data table notebook</a>'\n",
              "          + ' to learn more about interactive tables.';\n",
              "        element.innerHTML = '';\n",
              "        dataTable['output_type'] = 'display_data';\n",
              "        await google.colab.output.renderOutput(dataTable, element);\n",
              "        const docLink = document.createElement('div');\n",
              "        docLink.innerHTML = docLinkHtml;\n",
              "        element.appendChild(docLink);\n",
              "      }\n",
              "    </script>\n",
              "  </div>\n",
              "\n",
              "\n",
              "<div id=\"df-bfa1df61-1ba2-4740-ae2d-24937c775497\">\n",
              "  <button class=\"colab-df-quickchart\" onclick=\"quickchart('df-bfa1df61-1ba2-4740-ae2d-24937c775497')\"\n",
              "            title=\"Suggest charts\"\n",
              "            style=\"display:none;\">\n",
              "\n",
              "<svg xmlns=\"http://www.w3.org/2000/svg\" height=\"24px\"viewBox=\"0 0 24 24\"\n",
              "     width=\"24px\">\n",
              "    <g>\n",
              "        <path d=\"M19 3H5c-1.1 0-2 .9-2 2v14c0 1.1.9 2 2 2h14c1.1 0 2-.9 2-2V5c0-1.1-.9-2-2-2zM9 17H7v-7h2v7zm4 0h-2V7h2v10zm4 0h-2v-4h2v4z\"/>\n",
              "    </g>\n",
              "</svg>\n",
              "  </button>\n",
              "\n",
              "<style>\n",
              "  .colab-df-quickchart {\n",
              "      --bg-color: #E8F0FE;\n",
              "      --fill-color: #1967D2;\n",
              "      --hover-bg-color: #E2EBFA;\n",
              "      --hover-fill-color: #174EA6;\n",
              "      --disabled-fill-color: #AAA;\n",
              "      --disabled-bg-color: #DDD;\n",
              "  }\n",
              "\n",
              "  [theme=dark] .colab-df-quickchart {\n",
              "      --bg-color: #3B4455;\n",
              "      --fill-color: #D2E3FC;\n",
              "      --hover-bg-color: #434B5C;\n",
              "      --hover-fill-color: #FFFFFF;\n",
              "      --disabled-bg-color: #3B4455;\n",
              "      --disabled-fill-color: #666;\n",
              "  }\n",
              "\n",
              "  .colab-df-quickchart {\n",
              "    background-color: var(--bg-color);\n",
              "    border: none;\n",
              "    border-radius: 50%;\n",
              "    cursor: pointer;\n",
              "    display: none;\n",
              "    fill: var(--fill-color);\n",
              "    height: 32px;\n",
              "    padding: 0;\n",
              "    width: 32px;\n",
              "  }\n",
              "\n",
              "  .colab-df-quickchart:hover {\n",
              "    background-color: var(--hover-bg-color);\n",
              "    box-shadow: 0 1px 2px rgba(60, 64, 67, 0.3), 0 1px 3px 1px rgba(60, 64, 67, 0.15);\n",
              "    fill: var(--button-hover-fill-color);\n",
              "  }\n",
              "\n",
              "  .colab-df-quickchart-complete:disabled,\n",
              "  .colab-df-quickchart-complete:disabled:hover {\n",
              "    background-color: var(--disabled-bg-color);\n",
              "    fill: var(--disabled-fill-color);\n",
              "    box-shadow: none;\n",
              "  }\n",
              "\n",
              "  .colab-df-spinner {\n",
              "    border: 2px solid var(--fill-color);\n",
              "    border-color: transparent;\n",
              "    border-bottom-color: var(--fill-color);\n",
              "    animation:\n",
              "      spin 1s steps(1) infinite;\n",
              "  }\n",
              "\n",
              "  @keyframes spin {\n",
              "    0% {\n",
              "      border-color: transparent;\n",
              "      border-bottom-color: var(--fill-color);\n",
              "      border-left-color: var(--fill-color);\n",
              "    }\n",
              "    20% {\n",
              "      border-color: transparent;\n",
              "      border-left-color: var(--fill-color);\n",
              "      border-top-color: var(--fill-color);\n",
              "    }\n",
              "    30% {\n",
              "      border-color: transparent;\n",
              "      border-left-color: var(--fill-color);\n",
              "      border-top-color: var(--fill-color);\n",
              "      border-right-color: var(--fill-color);\n",
              "    }\n",
              "    40% {\n",
              "      border-color: transparent;\n",
              "      border-right-color: var(--fill-color);\n",
              "      border-top-color: var(--fill-color);\n",
              "    }\n",
              "    60% {\n",
              "      border-color: transparent;\n",
              "      border-right-color: var(--fill-color);\n",
              "    }\n",
              "    80% {\n",
              "      border-color: transparent;\n",
              "      border-right-color: var(--fill-color);\n",
              "      border-bottom-color: var(--fill-color);\n",
              "    }\n",
              "    90% {\n",
              "      border-color: transparent;\n",
              "      border-bottom-color: var(--fill-color);\n",
              "    }\n",
              "  }\n",
              "</style>\n",
              "\n",
              "  <script>\n",
              "    async function quickchart(key) {\n",
              "      const quickchartButtonEl =\n",
              "        document.querySelector('#' + key + ' button');\n",
              "      quickchartButtonEl.disabled = true;  // To prevent multiple clicks.\n",
              "      quickchartButtonEl.classList.add('colab-df-spinner');\n",
              "      try {\n",
              "        const charts = await google.colab.kernel.invokeFunction(\n",
              "            'suggestCharts', [key], {});\n",
              "      } catch (error) {\n",
              "        console.error('Error during call to suggestCharts:', error);\n",
              "      }\n",
              "      quickchartButtonEl.classList.remove('colab-df-spinner');\n",
              "      quickchartButtonEl.classList.add('colab-df-quickchart-complete');\n",
              "    }\n",
              "    (() => {\n",
              "      let quickchartButtonEl =\n",
              "        document.querySelector('#df-bfa1df61-1ba2-4740-ae2d-24937c775497 button');\n",
              "      quickchartButtonEl.style.display =\n",
              "        google.colab.kernel.accessAllowed ? 'block' : 'none';\n",
              "    })();\n",
              "  </script>\n",
              "</div>\n",
              "\n",
              "    </div>\n",
              "  </div>\n"
            ],
            "application/vnd.google.colaboratory.intrinsic+json": {
              "type": "dataframe",
              "variable_name": "df",
              "summary": "{\n  \"name\": \"df\",\n  \"rows\": 1234,\n  \"fields\": [\n    {\n      \"column\": \"Unnamed: 0\",\n      \"properties\": {\n        \"dtype\": \"number\",\n        \"std\": 356,\n        \"min\": 0,\n        \"max\": 1233,\n        \"num_unique_values\": 1234,\n        \"samples\": [\n          753,\n          582,\n          548\n        ],\n        \"semantic_type\": \"\",\n        \"description\": \"\"\n      }\n    },\n    {\n      \"column\": \"Name\",\n      \"properties\": {\n        \"dtype\": \"string\",\n        \"num_unique_values\": 768,\n        \"samples\": [\n          \"Toyota Corolla Altis GL\",\n          \"Chevrolet Spark 1.0 LT\",\n          \"BMW 5 Series 2003-2012 520d\"\n        ],\n        \"semantic_type\": \"\",\n        \"description\": \"\"\n      }\n    },\n    {\n      \"column\": \"Location\",\n      \"properties\": {\n        \"dtype\": \"category\",\n        \"num_unique_values\": 11,\n        \"samples\": [\n          \"Jaipur\",\n          \"Delhi\",\n          \"Kolkata\"\n        ],\n        \"semantic_type\": \"\",\n        \"description\": \"\"\n      }\n    },\n    {\n      \"column\": \"Year\",\n      \"properties\": {\n        \"dtype\": \"number\",\n        \"std\": 3,\n        \"min\": 1996,\n        \"max\": 2019,\n        \"num_unique_values\": 20,\n        \"samples\": [\n          2014,\n          2004,\n          2003\n        ],\n        \"semantic_type\": \"\",\n        \"description\": \"\"\n      }\n    },\n    {\n      \"column\": \"Kilometers_Driven\",\n      \"properties\": {\n        \"dtype\": \"number\",\n        \"std\": 35598,\n        \"min\": 1000,\n        \"max\": 350000,\n        \"num_unique_values\": 755,\n        \"samples\": [\n          170000,\n          72002,\n          32000\n        ],\n        \"semantic_type\": \"\",\n        \"description\": \"\"\n      }\n    },\n    {\n      \"column\": \"Fuel_Type\",\n      \"properties\": {\n        \"dtype\": \"category\",\n        \"num_unique_values\": 4,\n        \"samples\": [\n          \"Petrol\",\n          \"LPG\",\n          \"CNG\"\n        ],\n        \"semantic_type\": \"\",\n        \"description\": \"\"\n      }\n    },\n    {\n      \"column\": \"Transmission\",\n      \"properties\": {\n        \"dtype\": \"category\",\n        \"num_unique_values\": 2,\n        \"samples\": [\n          \"Automatic\",\n          \"Manual\"\n        ],\n        \"semantic_type\": \"\",\n        \"description\": \"\"\n      }\n    },\n    {\n      \"column\": \"Owner_Type\",\n      \"properties\": {\n        \"dtype\": \"category\",\n        \"num_unique_values\": 4,\n        \"samples\": [\n          \"Second\",\n          \"Fourth & Above\"\n        ],\n        \"semantic_type\": \"\",\n        \"description\": \"\"\n      }\n    },\n    {\n      \"column\": \"Mileage\",\n      \"properties\": {\n        \"dtype\": \"category\",\n        \"num_unique_values\": 301,\n        \"samples\": [\n          \"14.24 kmpl\",\n          \"11.18 kmpl\"\n        ],\n        \"semantic_type\": \"\",\n        \"description\": \"\"\n      }\n    },\n    {\n      \"column\": \"Engine\",\n      \"properties\": {\n        \"dtype\": \"category\",\n        \"num_unique_values\": 104,\n        \"samples\": [\n          \"1196 CC\",\n          \"5998 CC\"\n        ],\n        \"semantic_type\": \"\",\n        \"description\": \"\"\n      }\n    },\n    {\n      \"column\": \"Power\",\n      \"properties\": {\n        \"dtype\": \"category\",\n        \"num_unique_values\": 249,\n        \"samples\": [\n          \"164.7 bhp\",\n          \"168.7 bhp\"\n        ],\n        \"semantic_type\": \"\",\n        \"description\": \"\"\n      }\n    },\n    {\n      \"column\": \"Seats\",\n      \"properties\": {\n        \"dtype\": \"number\",\n        \"std\": 0.8256217828188595,\n        \"min\": 2.0,\n        \"max\": 10.0,\n        \"num_unique_values\": 7,\n        \"samples\": [\n          4.0,\n          5.0\n        ],\n        \"semantic_type\": \"\",\n        \"description\": \"\"\n      }\n    },\n    {\n      \"column\": \"New_Price\",\n      \"properties\": {\n        \"dtype\": \"category\",\n        \"num_unique_values\": 162,\n        \"samples\": [\n          \"7.06 Lakh\",\n          \"4.02 Lakh\"\n        ],\n        \"semantic_type\": \"\",\n        \"description\": \"\"\n      }\n    }\n  ]\n}"
            }
          },
          "metadata": {},
          "execution_count": 4
        }
      ]
    },
    {
      "cell_type": "code",
      "source": [
        "import pandas as pd\n",
        "\n",
        "# Assuming the data is loaded into a dataframe named 'df'\n",
        "\n",
        "# Count missing values in 'Power' and 'Engine' columns\n",
        "missing_in_power = df['Power'].isnull().sum()\n",
        "missing_in_engine = df['Engine'].isnull().sum()\n",
        "\n",
        "# Print the results\n",
        "print(f\"Number of missing values in 'Power': {missing_in_power}\")\n",
        "print(f\"Number of missing values in 'Engine': {missing_in_engine}\")\n"
      ],
      "metadata": {
        "colab": {
          "base_uri": "https://localhost:8080/"
        },
        "id": "WLILbd-yar1U",
        "outputId": "e527e56c-c1bd-4207-e06f-cf8f6b19dbd8"
      },
      "execution_count": null,
      "outputs": [
        {
          "output_type": "stream",
          "name": "stdout",
          "text": [
            "Number of missing values in 'Power': 10\n",
            "Number of missing values in 'Engine': 10\n"
          ]
        }
      ]
    },
    {
      "cell_type": "code",
      "source": [
        "null_values = [\"null bhp\", \"null cc\"]\n",
        "# Identify rows with \"null bhp\" or \"null cc\" in either 'Engine' or 'Power'\n",
        "filtered_df = df[(df['Engine'].isin(null_values)) | (df['Power'].isin(null_values))]\n",
        "\n",
        "# You can now explore or analyze these rows further\n",
        "print(filtered_df)\n"
      ],
      "metadata": {
        "colab": {
          "base_uri": "https://localhost:8080/"
        },
        "id": "N2sIqCD4bIP5",
        "outputId": "ed3e5dd9-a9c9-4aab-f20b-d2a9b05a4c37"
      },
      "execution_count": null,
      "outputs": [
        {
          "output_type": "stream",
          "name": "stdout",
          "text": [
            "      Unnamed: 0                                     Name    Location  Year  \\\n",
            "3              3                     Toyota Etios Liva GD   Hyderabad  2012   \n",
            "74            74                   Hyundai Santro Xing XL   Bangalore  2007   \n",
            "122          122                     Toyota Etios Liva GD      Jaipur  2012   \n",
            "143          143             Ford Fiesta 1.4 SXI Duratorq      Jaipur  2008   \n",
            "191          191                          Tata Indica DLS     Chennai  2006   \n",
            "197          197        Hindustan Motors Contessa 2.0 DSL        Pune  1996   \n",
            "259          259                          Toyota Etios GD   Bangalore  2012   \n",
            "367          367                       Nissan Teana 230jM  Coimbatore  2009   \n",
            "409          409                       Nissan Teana 230jM     Chennai  2008   \n",
            "420          420           Hyundai Santro GLS I - Euro II   Bangalore  2011   \n",
            "426          426              Maruti Swift VDI BSIV W ABS  Coimbatore  2016   \n",
            "435          435        Hyundai Santro LS zipDrive Euro I     Chennai  2002   \n",
            "557          557                Hyundai Santro LS zipPlus     Kolkata  2002   \n",
            "572          572                 Ford Fiesta 1.4 SXi TDCi        Pune  2009   \n",
            "606          606                    Maruti Swift VDI BSIV     Kolkata  2012   \n",
            "678          678                   Hyundai Santro Xing XL      Jaipur  2007   \n",
            "704          704                 Ford Fiesta 1.4 SXi TDCi     Kolkata  2009   \n",
            "872          872                          Toyota Etios GD     Kolkata  2013   \n",
            "877          877                     Toyota Etios Liva GD   Hyderabad  2013   \n",
            "928          928                      Toyota Etios Liva G       Delhi  2012   \n",
            "1073        1073  Hyundai Santro Xing XG AT eRLX Euro III  Coimbatore  2007   \n",
            "1126        1126                      Toyota Etios Liva G     Kolkata  2012   \n",
            "\n",
            "      Kilometers_Driven Fuel_Type Transmission      Owner_Type     Mileage  \\\n",
            "3                139000    Diesel       Manual           First  23.59 kmpl   \n",
            "74                47000    Petrol       Manual          Second    0.0 kmpl   \n",
            "122              121134    Diesel       Manual           First  23.59 kmpl   \n",
            "143              135000    Diesel       Manual           First   17.8 kmpl   \n",
            "191              140000    Diesel       Manual          Second   13.5 kmpl   \n",
            "197               65000    Diesel       Manual          Second   14.1 kmpl   \n",
            "259               90000    Diesel       Manual           First  23.59 kmpl   \n",
            "367               67038    Petrol    Automatic           First    9.1 kmpl   \n",
            "409               63288    Petrol    Automatic           First    9.1 kmpl   \n",
            "420               43189    Petrol       Manual           First    0.0 kmpl   \n",
            "426               69564    Diesel       Manual           First   17.8 kmpl   \n",
            "435              120000    Petrol       Manual  Fourth & Above    0.0 kmpl   \n",
            "557               80000    Petrol       Manual           First    0.0 kmpl   \n",
            "572              134000    Diesel       Manual           First   17.8 kmpl   \n",
            "606               72000    Diesel       Manual           First   17.8 kmpl   \n",
            "678               85000    Petrol       Manual          Second    0.0 kmpl   \n",
            "704               39408    Diesel       Manual           First   17.8 kmpl   \n",
            "872               60000    Diesel       Manual           First  23.59 kmpl   \n",
            "877               86000    Diesel       Manual           First  23.59 kmpl   \n",
            "928               77800    Petrol       Manual           First   18.3 kmpl   \n",
            "1073              64168    Petrol    Automatic           First   17.0 kmpl   \n",
            "1126              37212    Petrol       Manual           First   18.3 kmpl   \n",
            "\n",
            "       Engine     Power  Seats New_Price  \n",
            "3     1364 CC  null bhp    5.0       NaN  \n",
            "74    1086 CC  null bhp    5.0       NaN  \n",
            "122   1364 CC  null bhp    5.0       NaN  \n",
            "143   1399 CC  null bhp    5.0       NaN  \n",
            "191   1405 CC  null bhp    5.0       NaN  \n",
            "197   1995 CC  null bhp    5.0       NaN  \n",
            "259   1364 CC  null bhp    5.0       NaN  \n",
            "367   2349 CC  null bhp    5.0       NaN  \n",
            "409   2349 CC  null bhp    5.0       NaN  \n",
            "420    999 CC  null bhp    5.0       NaN  \n",
            "426   1248 CC  null bhp    5.0       NaN  \n",
            "435    999 CC  null bhp    5.0       NaN  \n",
            "557   1086 CC  null bhp    5.0       NaN  \n",
            "572   1399 CC  null bhp    5.0       NaN  \n",
            "606   1248 CC  null bhp    5.0       NaN  \n",
            "678   1086 CC  null bhp    5.0       NaN  \n",
            "704   1399 CC  null bhp    5.0       NaN  \n",
            "872   1364 CC  null bhp    5.0       NaN  \n",
            "877   1364 CC  null bhp    5.0       NaN  \n",
            "928   1197 CC  null bhp    5.0       NaN  \n",
            "1073  1086 CC  null bhp    5.0       NaN  \n",
            "1126  1197 CC  null bhp    5.0       NaN  \n"
          ]
        }
      ]
    },
    {
      "cell_type": "code",
      "source": [
        "import pandas as pd\n",
        "\n",
        "# Assuming the data is loaded into a dataframe named 'df'\n",
        "\n",
        "null_values = [\"null bhp\", \"null cc\"]\n",
        "\n",
        "# Count rows with values from 'null_values' list in either 'Engine' or 'Power'\n",
        "count_null_values = (df['Engine'].isin(null_values) | df['Power'].isin(null_values)).sum()\n",
        "\n",
        "print(f\"Number of rows with 'null bhp' or 'null cc': {count_null_values}\")\n"
      ],
      "metadata": {
        "colab": {
          "base_uri": "https://localhost:8080/"
        },
        "id": "3ssbL4rZbVHn",
        "outputId": "c4371871-9c1f-4615-a780-8232fab8ae7f"
      },
      "execution_count": null,
      "outputs": [
        {
          "output_type": "stream",
          "name": "stdout",
          "text": [
            "Number of rows with 'null bhp' or 'null cc': 22\n"
          ]
        }
      ]
    },
    {
      "cell_type": "code",
      "source": [
        "import pandas as pd\n",
        "\n",
        "# Assuming the data is loaded into a dataframe named 'df'\n",
        "\n",
        "# Drop rows with missing values in 'Engine' or 'Power'\n",
        "df_cleaned = df.dropna(subset=['Engine', 'Power'])\n",
        "\n",
        "# Now 'df_cleaned' excludes rows with missing values in either column\n"
      ],
      "metadata": {
        "id": "ocrHm2heegft"
      },
      "execution_count": null,
      "outputs": []
    },
    {
      "cell_type": "code",
      "source": [
        "num_rows_engine = len(df_cleaned['Engine'])\n",
        "num_rows_power = len(df_cleaned['Power'])\n",
        "\n",
        "# Print the results\n",
        "print(f\"Number of rows in 'Engine': {num_rows_engine}\")\n",
        "print(f\"Number of rows in 'Power': {num_rows_power}\")\n"
      ],
      "metadata": {
        "colab": {
          "base_uri": "https://localhost:8080/"
        },
        "id": "WwMA7m7mgJgX",
        "outputId": "f888fdba-16f9-4c48-fd1f-ed970788548c"
      },
      "execution_count": null,
      "outputs": [
        {
          "output_type": "stream",
          "name": "stdout",
          "text": [
            "Number of rows in 'Engine': 1224\n",
            "Number of rows in 'Power': 1224\n"
          ]
        }
      ]
    },
    {
      "cell_type": "code",
      "source": [
        "null_values = [\"null bhp\", \"null cc\"]\n",
        "# Identify rows with \"null bhp\" or \"null cc\" or any other missing value\n",
        "filtered_df = df[(df['Engine'].isin(null_values)) | (df['Engine'].isnull()) |  # Engine\n",
        "                 (df['Power'].isin(null_values)) | (df['Power'].isnull())]  # Power\n",
        "\n",
        "# You can now drop these rows from the original dataframe\n",
        "df_cleaned = df.drop(filtered_df.index)\n",
        "\n",
        "# Or view the dropped rows (optional)\n",
        "print(filtered_df)\n"
      ],
      "metadata": {
        "colab": {
          "base_uri": "https://localhost:8080/"
        },
        "id": "-hx5983TguEH",
        "outputId": "c525067d-7538-4a87-8a4a-24d81eb97bc2"
      },
      "execution_count": null,
      "outputs": [
        {
          "output_type": "stream",
          "name": "stdout",
          "text": [
            "      Unnamed: 0                                     Name    Location  Year  \\\n",
            "3              3                     Toyota Etios Liva GD   Hyderabad  2012   \n",
            "23            23             Skoda Laura 1.8 TSI Ambition   Bangalore  2009   \n",
            "74            74                   Hyundai Santro Xing XL   Bangalore  2007   \n",
            "122          122                     Toyota Etios Liva GD      Jaipur  2012   \n",
            "143          143             Ford Fiesta 1.4 SXI Duratorq      Jaipur  2008   \n",
            "191          191                          Tata Indica DLS     Chennai  2006   \n",
            "197          197        Hindustan Motors Contessa 2.0 DSL        Pune  1996   \n",
            "259          259                          Toyota Etios GD   Bangalore  2012   \n",
            "367          367                       Nissan Teana 230jM  Coimbatore  2009   \n",
            "409          409                       Nissan Teana 230jM     Chennai  2008   \n",
            "420          420           Hyundai Santro GLS I - Euro II   Bangalore  2011   \n",
            "426          426              Maruti Swift VDI BSIV W ABS  Coimbatore  2016   \n",
            "435          435        Hyundai Santro LS zipDrive Euro I     Chennai  2002   \n",
            "522          522    Toyota Etios Liva Diesel TRD Sportivo   Bangalore  2012   \n",
            "525          525            Hyundai i20 new Sportz AT 1.4   Bangalore  2012   \n",
            "557          557                Hyundai Santro LS zipPlus     Kolkata  2002   \n",
            "572          572                 Ford Fiesta 1.4 SXi TDCi        Pune  2009   \n",
            "606          606                    Maruti Swift VDI BSIV     Kolkata  2012   \n",
            "614          614                      Mahindra TUV 300 P4     Kolkata  2016   \n",
            "624          624                  BMW 5 Series 520d Sedan   Bangalore  2009   \n",
            "632          632                     Maruti Swift 1.3 VXi     Kolkata  2015   \n",
            "658          658                   Fiat Punto 1.4 Emotion      Jaipur  2010   \n",
            "666          666                     Maruti Swift 1.3 VXi        Pune  2010   \n",
            "678          678                   Hyundai Santro Xing XL      Jaipur  2007   \n",
            "704          704                 Ford Fiesta 1.4 SXi TDCi     Kolkata  2009   \n",
            "861          861                  BMW 5 Series 520d Sedan     Chennai  2009   \n",
            "872          872                          Toyota Etios GD     Kolkata  2013   \n",
            "877          877                     Toyota Etios Liva GD   Hyderabad  2013   \n",
            "883          883                      Toyota Etios Liva V       Kochi  2012   \n",
            "928          928                      Toyota Etios Liva G       Delhi  2012   \n",
            "1073        1073  Hyundai Santro Xing XG AT eRLX Euro III  Coimbatore  2007   \n",
            "1126        1126                      Toyota Etios Liva G     Kolkata  2012   \n",
            "\n",
            "      Kilometers_Driven Fuel_Type Transmission      Owner_Type     Mileage  \\\n",
            "3                139000    Diesel       Manual           First  23.59 kmpl   \n",
            "23                72000    Petrol       Manual          Second   17.5 kmpl   \n",
            "74                47000    Petrol       Manual          Second    0.0 kmpl   \n",
            "122              121134    Diesel       Manual           First  23.59 kmpl   \n",
            "143              135000    Diesel       Manual           First   17.8 kmpl   \n",
            "191              140000    Diesel       Manual          Second   13.5 kmpl   \n",
            "197               65000    Diesel       Manual          Second   14.1 kmpl   \n",
            "259               90000    Diesel       Manual           First  23.59 kmpl   \n",
            "367               67038    Petrol    Automatic           First    9.1 kmpl   \n",
            "409               63288    Petrol    Automatic           First    9.1 kmpl   \n",
            "420               43189    Petrol       Manual           First    0.0 kmpl   \n",
            "426               69564    Diesel       Manual           First   17.8 kmpl   \n",
            "435              120000    Petrol       Manual  Fourth & Above    0.0 kmpl   \n",
            "522               56600    Diesel       Manual           First  23.59 kmpl   \n",
            "525               58000    Petrol    Automatic          Second   15.0 kmpl   \n",
            "557               80000    Petrol       Manual           First    0.0 kmpl   \n",
            "572              134000    Diesel       Manual           First   17.8 kmpl   \n",
            "606               72000    Diesel       Manual           First   17.8 kmpl   \n",
            "614               27000    Diesel       Manual           First    0.0 kmpl   \n",
            "624              150000    Diesel    Automatic          Second  18.48 kmpl   \n",
            "632               36009    Petrol       Manual           First   16.1 kmpl   \n",
            "658               65000    Petrol       Manual           Third   14.6 kmpl   \n",
            "666              115000    Petrol       Manual          Second   16.1 kmpl   \n",
            "678               85000    Petrol       Manual          Second    0.0 kmpl   \n",
            "704               39408    Diesel       Manual           First   17.8 kmpl   \n",
            "861               95000    Diesel    Automatic          Second  18.48 kmpl   \n",
            "872               60000    Diesel       Manual           First  23.59 kmpl   \n",
            "877               86000    Diesel       Manual           First  23.59 kmpl   \n",
            "883               59311    Petrol       Manual           First   18.3 kmpl   \n",
            "928               77800    Petrol       Manual           First   18.3 kmpl   \n",
            "1073              64168    Petrol    Automatic           First   17.0 kmpl   \n",
            "1126              37212    Petrol       Manual           First   18.3 kmpl   \n",
            "\n",
            "       Engine     Power  Seats New_Price  \n",
            "3     1364 CC  null bhp    5.0       NaN  \n",
            "23        NaN       NaN    NaN       NaN  \n",
            "74    1086 CC  null bhp    5.0       NaN  \n",
            "122   1364 CC  null bhp    5.0       NaN  \n",
            "143   1399 CC  null bhp    5.0       NaN  \n",
            "191   1405 CC  null bhp    5.0       NaN  \n",
            "197   1995 CC  null bhp    5.0       NaN  \n",
            "259   1364 CC  null bhp    5.0       NaN  \n",
            "367   2349 CC  null bhp    5.0       NaN  \n",
            "409   2349 CC  null bhp    5.0       NaN  \n",
            "420    999 CC  null bhp    5.0       NaN  \n",
            "426   1248 CC  null bhp    5.0       NaN  \n",
            "435    999 CC  null bhp    5.0       NaN  \n",
            "522       NaN       NaN    NaN       NaN  \n",
            "525       NaN       NaN    NaN       NaN  \n",
            "557   1086 CC  null bhp    5.0       NaN  \n",
            "572   1399 CC  null bhp    5.0       NaN  \n",
            "606   1248 CC  null bhp    5.0       NaN  \n",
            "614       NaN       NaN    NaN       NaN  \n",
            "624       NaN       NaN    NaN       NaN  \n",
            "632       NaN       NaN    NaN       NaN  \n",
            "658       NaN       NaN    NaN       NaN  \n",
            "666       NaN       NaN    NaN       NaN  \n",
            "678   1086 CC  null bhp    5.0       NaN  \n",
            "704   1399 CC  null bhp    5.0       NaN  \n",
            "861       NaN       NaN    NaN       NaN  \n",
            "872   1364 CC  null bhp    5.0       NaN  \n",
            "877   1364 CC  null bhp    5.0       NaN  \n",
            "883       NaN       NaN    NaN       NaN  \n",
            "928   1197 CC  null bhp    5.0       NaN  \n",
            "1073  1086 CC  null bhp    5.0       NaN  \n",
            "1126  1197 CC  null bhp    5.0       NaN  \n"
          ]
        }
      ]
    },
    {
      "cell_type": "code",
      "source": [
        "num_rows_engine = len(df_cleaned['Engine'])\n",
        "num_rows_power = len(df_cleaned['Power'])\n",
        "\n",
        "# Print the results\n",
        "print(f\"Number of rows in 'Engine': {num_rows_engine}\")\n",
        "print(f\"Number of rows in 'Power': {num_rows_power}\")\n"
      ],
      "metadata": {
        "colab": {
          "base_uri": "https://localhost:8080/"
        },
        "id": "HLfPb4yugzh2",
        "outputId": "486b6225-46dd-4266-a644-2bd3ab7e2170"
      },
      "execution_count": null,
      "outputs": [
        {
          "output_type": "stream",
          "name": "stdout",
          "text": [
            "Number of rows in 'Engine': 1202\n",
            "Number of rows in 'Power': 1202\n"
          ]
        }
      ]
    },
    {
      "cell_type": "code",
      "source": [
        "# Assuming 'df' is your dataframe\n",
        "df['Engine_Cleaned'] = df['Engine'].str.replace(r\"[cC][bB][hH][pP]\", \"\", regex=True)\n",
        "df['Power_Cleaned'] = df['Power'].str.replace(r\"[bB][hH][pP]\", \"\", regex=True)\n"
      ],
      "metadata": {
        "id": "ApBjR3jchGE2"
      },
      "execution_count": null,
      "outputs": []
    },
    {
      "cell_type": "code",
      "source": [
        "try:\n",
        "  # Attempt conversion after cleaning (if needed)\n",
        "  df['Engine_Numeric'] = pd.to_numeric(df['Engine_Cleaned'])\n",
        "  df['Power_Numeric'] = pd.to_numeric(df['Power_Cleaned'])\n",
        "  print(\"Conversion successful (assuming cleaning was done)!\")\n",
        "except:\n",
        "  print(\"Error: Some values could not be converted to numeric.\")\n"
      ],
      "metadata": {
        "colab": {
          "base_uri": "https://localhost:8080/"
        },
        "id": "nWareqgui_D5",
        "outputId": "a7a9d8cc-f0c6-415e-c7d5-f4f4dcec7059"
      },
      "execution_count": null,
      "outputs": [
        {
          "output_type": "stream",
          "name": "stdout",
          "text": [
            "Error: Some values could not be converted to numeric.\n"
          ]
        }
      ]
    },
    {
      "cell_type": "code",
      "source": [
        "# Example for handling inconsistent formats\n",
        "unit_patterns = [r\"[bB][hH][pP]\", r\"[bB][hH][pP]\", r\"[hH][pP]\"]  # List of patterns\n",
        "\n",
        "for pattern in unit_patterns:\n",
        "  df['Power_Numeric'] = df['Power'].str.replace(pattern, \"\", regex=True)\n"
      ],
      "metadata": {
        "id": "hn5o3WrgmvXY"
      },
      "execution_count": null,
      "outputs": []
    },
    {
      "cell_type": "code",
      "source": [
        "import pandas as pd\n",
        "\n",
        "# Assuming 'df' is your dataframe\n",
        "# Improved regular expression to capture trailing characters\n",
        "df['Power_Numeric'] = df['Power'].str.replace(r\"[bB][hH][pP][\\s]*\", \"\", regex=True)\n",
        "\n",
        "# Now you can use 'Power_Numeric' for numerical analysis\n",
        "\n"
      ],
      "metadata": {
        "id": "gyAJ4kKAnZxH"
      },
      "execution_count": null,
      "outputs": []
    },
    {
      "cell_type": "code",
      "source": [
        "try:\n",
        "  df['Power_Numeric'] = df['Power_Numeric'].astype(float)\n",
        "except:\n",
        "  print(\"Error: Some values could not be converted to numeric.\")\n",
        "  # Handle errors (e.g., log them, replace with NaN)\n"
      ],
      "metadata": {
        "colab": {
          "base_uri": "https://localhost:8080/"
        },
        "id": "RiFjpVRlnv8O",
        "outputId": "98f16c6e-a799-494a-886f-4579d9b2a23c"
      },
      "execution_count": null,
      "outputs": [
        {
          "output_type": "stream",
          "name": "stdout",
          "text": [
            "Error: Some values could not be converted to numeric.\n"
          ]
        }
      ]
    },
    {
      "cell_type": "code",
      "source": [
        "import pandas as pd\n",
        "\n",
        "# Assuming 'df' is your dataframe containing the 'Power' column\n",
        "\n",
        "# Improved regular expression for unit suffix removal\n",
        "improved_regex = r\"[bB][hH][pP][\\s]*\"\n",
        "\n",
        "# Clean 'Power' column (remove unit suffix and any trailing spaces)\n",
        "df['Power_Cleaned'] = df['Power'].str.replace(improved_regex, \"\", regex=True)\n",
        "\n",
        "try:\n",
        "  # Attempt conversion to float\n",
        "  df['Power_Numeric'] = pd.to_numeric(df['Power_Cleaned'], errors='coerce')\n",
        "except:\n",
        "  print(\"Error: Some values could not be converted to numeric.\")\n",
        "\n",
        "# Handle missing values (NaNs) introduced by 'errors='coerce' (optional)\n",
        "# You can choose one of these approaches or implement your own:\n",
        "# Option 1: Drop rows with NaN (if errors are concentrated and not critical)\n",
        "# df.dropna(subset=['Power_Numeric'], inplace=True)\n",
        "\n",
        "# Option 2: Impute missing values (e.g., with mean/median)\n",
        "# df['Power_Numeric'].fillna(df['Power_Numeric'].mean(), inplace=True)\n",
        "\n",
        "# Further data exploration and analysis (optional)\n",
        "# You can use 'df['Power_Numeric']' for numerical operations\n",
        "# Consider data visualization techniques (histograms, box plots) to identify outliers\n"
      ],
      "metadata": {
        "id": "RltHIXxdoz-e"
      },
      "execution_count": null,
      "outputs": []
    },
    {
      "cell_type": "code",
      "source": [
        "# Assuming 'df' is your dataframe\n",
        "print(df['Power_Numeric'].describe())\n"
      ],
      "metadata": {
        "colab": {
          "base_uri": "https://localhost:8080/"
        },
        "id": "elP7JGZbpUN8",
        "outputId": "e5110691-3f6a-4f7c-b7a0-bbf5f3bd704a"
      },
      "execution_count": null,
      "outputs": [
        {
          "output_type": "stream",
          "name": "stdout",
          "text": [
            "count    1202.000000\n",
            "mean      110.380420\n",
            "std        51.543818\n",
            "min        34.200000\n",
            "25%        75.000000\n",
            "50%        93.700000\n",
            "75%       130.000000\n",
            "max       616.000000\n",
            "Name: Power_Numeric, dtype: float64\n"
          ]
        }
      ]
    },
    {
      "cell_type": "code",
      "source": [
        "# Highest CC\n",
        "highest_cc = df['Power_Numeric'].max()\n",
        "\n",
        "# Lowest CC\n",
        "lowest_cc = df['Power_Numeric'].min()\n",
        "\n",
        "# Average CC\n",
        "average_cc = df['Power_Numeric'].mean()\n",
        "\n",
        "# Print the results\n",
        "print(\"Highest CC:\", highest_cc)\n",
        "print(\"Lowest CC:\", lowest_cc)\n",
        "print(\"Average CC:\", average_cc)\n"
      ],
      "metadata": {
        "colab": {
          "base_uri": "https://localhost:8080/"
        },
        "id": "9vmjvBTAuwVP",
        "outputId": "2200615f-e1cc-4d6e-9e35-4c9ff9ee2dc7"
      },
      "execution_count": null,
      "outputs": [
        {
          "output_type": "stream",
          "name": "stdout",
          "text": [
            "Highest CC: 616.0\n",
            "Lowest CC: 34.2\n",
            "Average CC: 110.3804201331115\n"
          ]
        }
      ]
    },
    {
      "cell_type": "code",
      "source": [
        "import pandas as pd\n",
        "import matplotlib.pyplot as plt\n",
        "\n",
        "# Assuming 'df' is your dataframe\n",
        "average_power = df['Power_Numeric'].mean()\n",
        "\n",
        "# Histogram with average line\n",
        "plt.hist(df['Power_Numeric'])\n",
        "plt.axhline(y=average_power, color='red', linestyle='dashed', label=f'Average Power ({average_power:.2f})')\n",
        "plt.xlabel('Power (numeric)')\n",
        "plt.ylabel('Frequency')\n",
        "plt.title('Distribution of Power')\n",
        "plt.legend()\n",
        "plt.show()\n"
      ],
      "metadata": {
        "colab": {
          "base_uri": "https://localhost:8080/",
          "height": 472
        },
        "id": "fX1wHSg7vSya",
        "outputId": "8770fc79-37e7-43d3-c482-252274ed37d0"
      },
      "execution_count": null,
      "outputs": [
        {
          "output_type": "display_data",
          "data": {
            "text/plain": [
              "<Figure size 640x480 with 1 Axes>"
            ],
            "image/png": "[encoded data removed]"
          },
          "metadata": {}
        }
      ]
    },
    {
      "cell_type": "code",
      "source": [],
      "metadata": {
        "id": "DtLArTw9e2wH"
      },
      "execution_count": null,
      "outputs": []
    }
  ]
}
