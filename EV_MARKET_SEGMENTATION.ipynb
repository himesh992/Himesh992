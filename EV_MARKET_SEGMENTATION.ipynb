{
  "nbformat": 4,
  "nbformat_minor": 0,
  "metadata": {
    "colab": {
      "provenance": [],
      "authorship_tag": "ABX9TyNot8YnIbmqgG0oadDYxi6u",
      "include_colab_link": true
    },
    "kernelspec": {
      "name": "python3",
      "display_name": "Python 3"
    },
    "language_info": {
      "name": "python"
    }
  },
  "cells": [
    {
      "cell_type": "markdown",
      "metadata": {
        "id": "view-in-github",
        "colab_type": "text"
      },
      "source": [
        "<a href=\"https://colab.research.google.com/github/himesh992/Himesh992/blob/main/EV_MARKET_SEGMENTATION.ipynb\" target=\"_parent\"><img src=\"https://colab.research.google.com/assets/colab-badge.svg\" alt=\"Open In Colab\"/></a>"
      ]
    },
    {
      "cell_type": "code",
      "execution_count": 1,
      "metadata": {
        "id": "Bp6LIl8HJyt3"
      },
      "outputs": [],
      "source": [
        "import numpy as np\n",
        "import pandas as pd\n"
      ]
    },
    {
      "cell_type": "code",
      "source": [
        "#LOAD THE DATA\n",
        "from google.colab import files ;upload = files.upload()"
      ],
      "metadata": {
        "colab": {
          "base_uri": "https://localhost:8080/",
          "height": 73
        },
        "id": "S5Y7VpqvKHMw",
        "outputId": "cd729071-027a-4765-c88c-81d3fd929033"
      },
      "execution_count": 2,
      "outputs": [
        {
          "output_type": "display_data",
          "data": {
            "text/plain": [
              "<IPython.core.display.HTML object>"
            ],
            "text/html": [
              "\n",
              "     <input type=\"file\" id=\"files-a5f1aa2e-6d1b-47a7-a1f5-d42da65ebd39\" name=\"files[]\" multiple disabled\n",
              "        style=\"border:none\" />\n",
              "     <output id=\"result-a5f1aa2e-6d1b-47a7-a1f5-d42da65ebd39\">\n",
              "      Upload widget is only available when the cell has been executed in the\n",
              "      current browser session. Please rerun this cell to enable.\n",
              "      </output>\n",
              "      <script>// Copyright 2017 Google LLC\n",
              "//\n",
              "// Licensed under the Apache License, Version 2.0 (the \"License\");\n",
              "// you may not use this file except in compliance with the License.\n",
              "// You may obtain a copy of the License at\n",
              "//\n",
              "//      http://www.apache.org/licenses/LICENSE-2.0\n",
              "//\n",
              "// Unless required by applicable law or agreed to in writing, software\n",
              "// distributed under the License is distributed on an \"AS IS\" BASIS,\n",
              "// WITHOUT WARRANTIES OR CONDITIONS OF ANY KIND, either express or implied.\n",
              "// See the License for the specific language governing permissions and\n",
              "// limitations under the License.\n",
              "\n",
              "/**\n",
              " * @fileoverview Helpers for google.colab Python module.\n",
              " */\n",
              "(function(scope) {\n",
              "function span(text, styleAttributes = {}) {\n",
              "  const element = document.createElement('span');\n",
              "  element.textContent = text;\n",
              "  for (const key of Object.keys(styleAttributes)) {\n",
              "    element.style[key] = styleAttributes[key];\n",
              "  }\n",
              "  return element;\n",
              "}\n",
              "\n",
              "// Max number of bytes which will be uploaded at a time.\n",
              "const MAX_PAYLOAD_SIZE = 100 * 1024;\n",
              "\n",
              "function _uploadFiles(inputId, outputId) {\n",
              "  const steps = uploadFilesStep(inputId, outputId);\n",
              "  const outputElement = document.getElementById(outputId);\n",
              "  // Cache steps on the outputElement to make it available for the next call\n",
              "  // to uploadFilesContinue from Python.\n",
              "  outputElement.steps = steps;\n",
              "\n",
              "  return _uploadFilesContinue(outputId);\n",
              "}\n",
              "\n",
              "// This is roughly an async generator (not supported in the browser yet),\n",
              "// where there are multiple asynchronous steps and the Python side is going\n",
              "// to poll for completion of each step.\n",
              "// This uses a Promise to block the python side on completion of each step,\n",
              "// then passes the result of the previous step as the input to the next step.\n",
              "function _uploadFilesContinue(outputId) {\n",
              "  const outputElement = document.getElementById(outputId);\n",
              "  const steps = outputElement.steps;\n",
              "\n",
              "  const next = steps.next(outputElement.lastPromiseValue);\n",
              "  return Promise.resolve(next.value.promise).then((value) => {\n",
              "    // Cache the last promise value to make it available to the next\n",
              "    // step of the generator.\n",
              "    outputElement.lastPromiseValue = value;\n",
              "    return next.value.response;\n",
              "  });\n",
              "}\n",
              "\n",
              "/**\n",
              " * Generator function which is called between each async step of the upload\n",
              " * process.\n",
              " * @param {string} inputId Element ID of the input file picker element.\n",
              " * @param {string} outputId Element ID of the output display.\n",
              " * @return {!Iterable<!Object>} Iterable of next steps.\n",
              " */\n",
              "function* uploadFilesStep(inputId, outputId) {\n",
              "  const inputElement = document.getElementById(inputId);\n",
              "  inputElement.disabled = false;\n",
              "\n",
              "  const outputElement = document.getElementById(outputId);\n",
              "  outputElement.innerHTML = '';\n",
              "\n",
              "  const pickedPromise = new Promise((resolve) => {\n",
              "    inputElement.addEventListener('change', (e) => {\n",
              "      resolve(e.target.files);\n",
              "    });\n",
              "  });\n",
              "\n",
              "  const cancel = document.createElement('button');\n",
              "  inputElement.parentElement.appendChild(cancel);\n",
              "  cancel.textContent = 'Cancel upload';\n",
              "  const cancelPromise = new Promise((resolve) => {\n",
              "    cancel.onclick = () => {\n",
              "      resolve(null);\n",
              "    };\n",
              "  });\n",
              "\n",
              "  // Wait for the user to pick the files.\n",
              "  const files = yield {\n",
              "    promise: Promise.race([pickedPromise, cancelPromise]),\n",
              "    response: {\n",
              "      action: 'starting',\n",
              "    }\n",
              "  };\n",
              "\n",
              "  cancel.remove();\n",
              "\n",
              "  // Disable the input element since further picks are not allowed.\n",
              "  inputElement.disabled = true;\n",
              "\n",
              "  if (!files) {\n",
              "    return {\n",
              "      response: {\n",
              "        action: 'complete',\n",
              "      }\n",
              "    };\n",
              "  }\n",
              "\n",
              "  for (const file of files) {\n",
              "    const li = document.createElement('li');\n",
              "    li.append(span(file.name, {fontWeight: 'bold'}));\n",
              "    li.append(span(\n",
              "        `(${file.type || 'n/a'}) - ${file.size} bytes, ` +\n",
              "        `last modified: ${\n",
              "            file.lastModifiedDate ? file.lastModifiedDate.toLocaleDateString() :\n",
              "                                    'n/a'} - `));\n",
              "    const percent = span('0% done');\n",
              "    li.appendChild(percent);\n",
              "\n",
              "    outputElement.appendChild(li);\n",
              "\n",
              "    const fileDataPromise = new Promise((resolve) => {\n",
              "      const reader = new FileReader();\n",
              "      reader.onload = (e) => {\n",
              "        resolve(e.target.result);\n",
              "      };\n",
              "      reader.readAsArrayBuffer(file);\n",
              "    });\n",
              "    // Wait for the data to be ready.\n",
              "    let fileData = yield {\n",
              "      promise: fileDataPromise,\n",
              "      response: {\n",
              "        action: 'continue',\n",
              "      }\n",
              "    };\n",
              "\n",
              "    // Use a chunked sending to avoid message size limits. See b/62115660.\n",
              "    let position = 0;\n",
              "    do {\n",
              "      const length = Math.min(fileData.byteLength - position, MAX_PAYLOAD_SIZE);\n",
              "      const chunk = new Uint8Array(fileData, position, length);\n",
              "      position += length;\n",
              "\n",
              "      const base64 = btoa(String.fromCharCode.apply(null, chunk));\n",
              "      yield {\n",
              "        response: {\n",
              "          action: 'append',\n",
              "          file: file.name,\n",
              "          data: base64,\n",
              "        },\n",
              "      };\n",
              "\n",
              "      let percentDone = fileData.byteLength === 0 ?\n",
              "          100 :\n",
              "          Math.round((position / fileData.byteLength) * 100);\n",
              "      percent.textContent = `${percentDone}% done`;\n",
              "\n",
              "    } while (position < fileData.byteLength);\n",
              "  }\n",
              "\n",
              "  // All done.\n",
              "  yield {\n",
              "    response: {\n",
              "      action: 'complete',\n",
              "    }\n",
              "  };\n",
              "}\n",
              "\n",
              "scope.google = scope.google || {};\n",
              "scope.google.colab = scope.google.colab || {};\n",
              "scope.google.colab._files = {\n",
              "  _uploadFiles,\n",
              "  _uploadFilesContinue,\n",
              "};\n",
              "})(self);\n",
              "</script> "
            ]
          },
          "metadata": {}
        },
        {
          "output_type": "stream",
          "name": "stdout",
          "text": [
            "Saving test-data.csv to test-data.csv\n"
          ]
        }
      ]
    },
    {
      "cell_type": "code",
      "source": [
        "df = pd.read_csv(\"test-data.csv\")\n",
        "\n",
        "df.head()"
      ],
      "metadata": {
        "colab": {
          "base_uri": "https://localhost:8080/",
          "height": 432
        },
        "id": "39VjwGa0KWw9",
        "outputId": "2a8ba903-3cf4-4993-e3cf-2bfafe74d558"
      },
      "execution_count": 3,
      "outputs": [
        {
          "output_type": "execute_result",
          "data": {
            "text/plain": [
              "   Unnamed: 0                                       Name    Location  Year  \\\n",
              "0           0                    Maruti Alto K10 LXI CNG       Delhi  2014   \n",
              "1           1              Maruti Alto 800 2016-2019 LXI  Coimbatore  2013   \n",
              "2           2  Toyota Innova Crysta Touring Sport 2.4 MT      Mumbai  2017   \n",
              "3           3                       Toyota Etios Liva GD   Hyderabad  2012   \n",
              "4           4                          Hyundai i20 Magna      Mumbai  2014   \n",
              "\n",
              "   Kilometers_Driven Fuel_Type Transmission Owner_Type      Mileage   Engine  \\\n",
              "0              40929       CNG       Manual      First  32.26 km/kg   998 CC   \n",
              "1              54493    Petrol       Manual     Second    24.7 kmpl   796 CC   \n",
              "2              34000    Diesel       Manual      First   13.68 kmpl  2393 CC   \n",
              "3             139000    Diesel       Manual      First   23.59 kmpl  1364 CC   \n",
              "4              29000    Petrol       Manual      First    18.5 kmpl  1197 CC   \n",
              "\n",
              "       Power  Seats   New_Price  \n",
              "0   58.2 bhp    4.0         NaN  \n",
              "1   47.3 bhp    5.0         NaN  \n",
              "2  147.8 bhp    7.0  25.27 Lakh  \n",
              "3   null bhp    5.0         NaN  \n",
              "4  82.85 bhp    5.0         NaN  "
            ],
            "text/html": [
              "\n",
              "  <div id=\"df-fd6facd1-045c-4786-866a-05c803bf1ba6\" class=\"colab-df-container\">\n",
              "    <div>\n",
              "<style scoped>\n",
              "    .dataframe tbody tr th:only-of-type {\n",
              "        vertical-align: middle;\n",
              "    }\n",
              "\n",
              "    .dataframe tbody tr th {\n",
              "        vertical-align: top;\n",
              "    }\n",
              "\n",
              "    .dataframe thead th {\n",
              "        text-align: right;\n",
              "    }\n",
              "</style>\n",
              "<table border=\"1\" class=\"dataframe\">\n",
              "  <thead>\n",
              "    <tr style=\"text-align: right;\">\n",
              "      <th></th>\n",
              "      <th>Unnamed: 0</th>\n",
              "      <th>Name</th>\n",
              "      <th>Location</th>\n",
              "      <th>Year</th>\n",
              "      <th>Kilometers_Driven</th>\n",
              "      <th>Fuel_Type</th>\n",
              "      <th>Transmission</th>\n",
              "      <th>Owner_Type</th>\n",
              "      <th>Mileage</th>\n",
              "      <th>Engine</th>\n",
              "      <th>Power</th>\n",
              "      <th>Seats</th>\n",
              "      <th>New_Price</th>\n",
              "    </tr>\n",
              "  </thead>\n",
              "  <tbody>\n",
              "    <tr>\n",
              "      <th>0</th>\n",
              "      <td>0</td>\n",
              "      <td>Maruti Alto K10 LXI CNG</td>\n",
              "      <td>Delhi</td>\n",
              "      <td>2014</td>\n",
              "      <td>40929</td>\n",
              "      <td>CNG</td>\n",
              "      <td>Manual</td>\n",
              "      <td>First</td>\n",
              "      <td>32.26 km/kg</td>\n",
              "      <td>998 CC</td>\n",
              "      <td>58.2 bhp</td>\n",
              "      <td>4.0</td>\n",
              "      <td>NaN</td>\n",
              "    </tr>\n",
              "    <tr>\n",
              "      <th>1</th>\n",
              "      <td>1</td>\n",
              "      <td>Maruti Alto 800 2016-2019 LXI</td>\n",
              "      <td>Coimbatore</td>\n",
              "      <td>2013</td>\n",
              "      <td>54493</td>\n",
              "      <td>Petrol</td>\n",
              "      <td>Manual</td>\n",
              "      <td>Second</td>\n",
              "      <td>24.7 kmpl</td>\n",
              "      <td>796 CC</td>\n",
              "      <td>47.3 bhp</td>\n",
              "      <td>5.0</td>\n",
              "      <td>NaN</td>\n",
              "    </tr>\n",
              "    <tr>\n",
              "      <th>2</th>\n",
              "      <td>2</td>\n",
              "      <td>Toyota Innova Crysta Touring Sport 2.4 MT</td>\n",
              "      <td>Mumbai</td>\n",
              "      <td>2017</td>\n",
              "      <td>34000</td>\n",
              "      <td>Diesel</td>\n",
              "      <td>Manual</td>\n",
              "      <td>First</td>\n",
              "      <td>13.68 kmpl</td>\n",
              "      <td>2393 CC</td>\n",
              "      <td>147.8 bhp</td>\n",
              "      <td>7.0</td>\n",
              "      <td>25.27 Lakh</td>\n",
              "    </tr>\n",
              "    <tr>\n",
              "      <th>3</th>\n",
              "      <td>3</td>\n",
              "      <td>Toyota Etios Liva GD</td>\n",
              "      <td>Hyderabad</td>\n",
              "      <td>2012</td>\n",
              "      <td>139000</td>\n",
              "      <td>Diesel</td>\n",
              "      <td>Manual</td>\n",
              "      <td>First</td>\n",
              "      <td>23.59 kmpl</td>\n",
              "      <td>1364 CC</td>\n",
              "      <td>null bhp</td>\n",
              "      <td>5.0</td>\n",
              "      <td>NaN</td>\n",
              "    </tr>\n",
              "    <tr>\n",
              "      <th>4</th>\n",
              "      <td>4</td>\n",
              "      <td>Hyundai i20 Magna</td>\n",
              "      <td>Mumbai</td>\n",
              "      <td>2014</td>\n",
              "      <td>29000</td>\n",
              "      <td>Petrol</td>\n",
              "      <td>Manual</td>\n",
              "      <td>First</td>\n",
              "      <td>18.5 kmpl</td>\n",
              "      <td>1197 CC</td>\n",
              "      <td>82.85 bhp</td>\n",
              "      <td>5.0</td>\n",
              "      <td>NaN</td>\n",
              "    </tr>\n",
              "  </tbody>\n",
              "</table>\n",
              "</div>\n",
              "    <div class=\"colab-df-buttons\">\n",
              "\n",
              "  <div class=\"colab-df-container\">\n",
              "    <button class=\"colab-df-convert\" onclick=\"convertToInteractive('df-fd6facd1-045c-4786-866a-05c803bf1ba6')\"\n",
              "            title=\"Convert this dataframe to an interactive table.\"\n",
              "            style=\"display:none;\">\n",
              "\n",
              "  <svg xmlns=\"http://www.w3.org/2000/svg\" height=\"24px\" viewBox=\"0 -960 960 960\">\n",
              "    <path d=\"M120-120v-720h720v720H120Zm60-500h600v-160H180v160Zm220 220h160v-160H400v160Zm0 220h160v-160H400v160ZM180-400h160v-160H180v160Zm440 0h160v-160H620v160ZM180-180h160v-160H180v160Zm440 0h160v-160H620v160Z\"/>\n",
              "  </svg>\n",
              "    </button>\n",
              "\n",
              "  <style>\n",
              "    .colab-df-container {\n",
              "      display:flex;\n",
              "      gap: 12px;\n",
              "    }\n",
              "\n",
              "    .colab-df-convert {\n",
              "      background-color: #E8F0FE;\n",
              "      border: none;\n",
              "      border-radius: 50%;\n",
              "      cursor: pointer;\n",
              "      display: none;\n",
              "      fill: #1967D2;\n",
              "      height: 32px;\n",
              "      padding: 0 0 0 0;\n",
              "      width: 32px;\n",
              "    }\n",
              "\n",
              "    .colab-df-convert:hover {\n",
              "      background-color: #E2EBFA;\n",
              "      box-shadow: 0px 1px 2px rgba(60, 64, 67, 0.3), 0px 1px 3px 1px rgba(60, 64, 67, 0.15);\n",
              "      fill: #174EA6;\n",
              "    }\n",
              "\n",
              "    .colab-df-buttons div {\n",
              "      margin-bottom: 4px;\n",
              "    }\n",
              "\n",
              "    [theme=dark] .colab-df-convert {\n",
              "      background-color: #3B4455;\n",
              "      fill: #D2E3FC;\n",
              "    }\n",
              "\n",
              "    [theme=dark] .colab-df-convert:hover {\n",
              "      background-color: #434B5C;\n",
              "      box-shadow: 0px 1px 3px 1px rgba(0, 0, 0, 0.15);\n",
              "      filter: drop-shadow(0px 1px 2px rgba(0, 0, 0, 0.3));\n",
              "      fill: #FFFFFF;\n",
              "    }\n",
              "  </style>\n",
              "\n",
              "    <script>\n",
              "      const buttonEl =\n",
              "        document.querySelector('#df-fd6facd1-045c-4786-866a-05c803bf1ba6 button.colab-df-convert');\n",
              "      buttonEl.style.display =\n",
              "        google.colab.kernel.accessAllowed ? 'block' : 'none';\n",
              "\n",
              "      async function convertToInteractive(key) {\n",
              "        const element = document.querySelector('#df-fd6facd1-045c-4786-866a-05c803bf1ba6');\n",
              "        const dataTable =\n",
              "          await google.colab.kernel.invokeFunction('convertToInteractive',\n",
              "                                                    [key], {});\n",
              "        if (!dataTable) return;\n",
              "\n",
              "        const docLinkHtml = 'Like what you see? Visit the ' +\n",
              "          '<a target=\"_blank\" href=https://colab.research.google.com/notebooks/data_table.ipynb>data table notebook</a>'\n",
              "          + ' to learn more about interactive tables.';\n",
              "        element.innerHTML = '';\n",
              "        dataTable['output_type'] = 'display_data';\n",
              "        await google.colab.output.renderOutput(dataTable, element);\n",
              "        const docLink = document.createElement('div');\n",
              "        docLink.innerHTML = docLinkHtml;\n",
              "        element.appendChild(docLink);\n",
              "      }\n",
              "    </script>\n",
              "  </div>\n",
              "\n",
              "\n",
              "<div id=\"df-685070a4-ade3-4479-ba29-b51852d99c01\">\n",
              "  <button class=\"colab-df-quickchart\" onclick=\"quickchart('df-685070a4-ade3-4479-ba29-b51852d99c01')\"\n",
              "            title=\"Suggest charts\"\n",
              "            style=\"display:none;\">\n",
              "\n",
              "<svg xmlns=\"http://www.w3.org/2000/svg\" height=\"24px\"viewBox=\"0 0 24 24\"\n",
              "     width=\"24px\">\n",
              "    <g>\n",
              "        <path d=\"M19 3H5c-1.1 0-2 .9-2 2v14c0 1.1.9 2 2 2h14c1.1 0 2-.9 2-2V5c0-1.1-.9-2-2-2zM9 17H7v-7h2v7zm4 0h-2V7h2v10zm4 0h-2v-4h2v4z\"/>\n",
              "    </g>\n",
              "</svg>\n",
              "  </button>\n",
              "\n",
              "<style>\n",
              "  .colab-df-quickchart {\n",
              "      --bg-color: #E8F0FE;\n",
              "      --fill-color: #1967D2;\n",
              "      --hover-bg-color: #E2EBFA;\n",
              "      --hover-fill-color: #174EA6;\n",
              "      --disabled-fill-color: #AAA;\n",
              "      --disabled-bg-color: #DDD;\n",
              "  }\n",
              "\n",
              "  [theme=dark] .colab-df-quickchart {\n",
              "      --bg-color: #3B4455;\n",
              "      --fill-color: #D2E3FC;\n",
              "      --hover-bg-color: #434B5C;\n",
              "      --hover-fill-color: #FFFFFF;\n",
              "      --disabled-bg-color: #3B4455;\n",
              "      --disabled-fill-color: #666;\n",
              "  }\n",
              "\n",
              "  .colab-df-quickchart {\n",
              "    background-color: var(--bg-color);\n",
              "    border: none;\n",
              "    border-radius: 50%;\n",
              "    cursor: pointer;\n",
              "    display: none;\n",
              "    fill: var(--fill-color);\n",
              "    height: 32px;\n",
              "    padding: 0;\n",
              "    width: 32px;\n",
              "  }\n",
              "\n",
              "  .colab-df-quickchart:hover {\n",
              "    background-color: var(--hover-bg-color);\n",
              "    box-shadow: 0 1px 2px rgba(60, 64, 67, 0.3), 0 1px 3px 1px rgba(60, 64, 67, 0.15);\n",
              "    fill: var(--button-hover-fill-color);\n",
              "  }\n",
              "\n",
              "  .colab-df-quickchart-complete:disabled,\n",
              "  .colab-df-quickchart-complete:disabled:hover {\n",
              "    background-color: var(--disabled-bg-color);\n",
              "    fill: var(--disabled-fill-color);\n",
              "    box-shadow: none;\n",
              "  }\n",
              "\n",
              "  .colab-df-spinner {\n",
              "    border: 2px solid var(--fill-color);\n",
              "    border-color: transparent;\n",
              "    border-bottom-color: var(--fill-color);\n",
              "    animation:\n",
              "      spin 1s steps(1) infinite;\n",
              "  }\n",
              "\n",
              "  @keyframes spin {\n",
              "    0% {\n",
              "      border-color: transparent;\n",
              "      border-bottom-color: var(--fill-color);\n",
              "      border-left-color: var(--fill-color);\n",
              "    }\n",
              "    20% {\n",
              "      border-color: transparent;\n",
              "      border-left-color: var(--fill-color);\n",
              "      border-top-color: var(--fill-color);\n",
              "    }\n",
              "    30% {\n",
              "      border-color: transparent;\n",
              "      border-left-color: var(--fill-color);\n",
              "      border-top-color: var(--fill-color);\n",
              "      border-right-color: var(--fill-color);\n",
              "    }\n",
              "    40% {\n",
              "      border-color: transparent;\n",
              "      border-right-color: var(--fill-color);\n",
              "      border-top-color: var(--fill-color);\n",
              "    }\n",
              "    60% {\n",
              "      border-color: transparent;\n",
              "      border-right-color: var(--fill-color);\n",
              "    }\n",
              "    80% {\n",
              "      border-color: transparent;\n",
              "      border-right-color: var(--fill-color);\n",
              "      border-bottom-color: var(--fill-color);\n",
              "    }\n",
              "    90% {\n",
              "      border-color: transparent;\n",
              "      border-bottom-color: var(--fill-color);\n",
              "    }\n",
              "  }\n",
              "</style>\n",
              "\n",
              "  <script>\n",
              "    async function quickchart(key) {\n",
              "      const quickchartButtonEl =\n",
              "        document.querySelector('#' + key + ' button');\n",
              "      quickchartButtonEl.disabled = true;  // To prevent multiple clicks.\n",
              "      quickchartButtonEl.classList.add('colab-df-spinner');\n",
              "      try {\n",
              "        const charts = await google.colab.kernel.invokeFunction(\n",
              "            'suggestCharts', [key], {});\n",
              "      } catch (error) {\n",
              "        console.error('Error during call to suggestCharts:', error);\n",
              "      }\n",
              "      quickchartButtonEl.classList.remove('colab-df-spinner');\n",
              "      quickchartButtonEl.classList.add('colab-df-quickchart-complete');\n",
              "    }\n",
              "    (() => {\n",
              "      let quickchartButtonEl =\n",
              "        document.querySelector('#df-685070a4-ade3-4479-ba29-b51852d99c01 button');\n",
              "      quickchartButtonEl.style.display =\n",
              "        google.colab.kernel.accessAllowed ? 'block' : 'none';\n",
              "    })();\n",
              "  </script>\n",
              "</div>\n",
              "\n",
              "    </div>\n",
              "  </div>\n"
            ],
            "application/vnd.google.colaboratory.intrinsic+json": {
              "type": "dataframe",
              "variable_name": "df",
              "summary": "{\n  \"name\": \"df\",\n  \"rows\": 1234,\n  \"fields\": [\n    {\n      \"column\": \"Unnamed: 0\",\n      \"properties\": {\n        \"dtype\": \"number\",\n        \"std\": 356,\n        \"min\": 0,\n        \"max\": 1233,\n        \"num_unique_values\": 1234,\n        \"samples\": [\n          753,\n          582,\n          548\n        ],\n        \"semantic_type\": \"\",\n        \"description\": \"\"\n      }\n    },\n    {\n      \"column\": \"Name\",\n      \"properties\": {\n        \"dtype\": \"string\",\n        \"num_unique_values\": 768,\n        \"samples\": [\n          \"Toyota Corolla Altis GL\",\n          \"Chevrolet Spark 1.0 LT\",\n          \"BMW 5 Series 2003-2012 520d\"\n        ],\n        \"semantic_type\": \"\",\n        \"description\": \"\"\n      }\n    },\n    {\n      \"column\": \"Location\",\n      \"properties\": {\n        \"dtype\": \"category\",\n        \"num_unique_values\": 11,\n        \"samples\": [\n          \"Jaipur\",\n          \"Delhi\",\n          \"Kolkata\"\n        ],\n        \"semantic_type\": \"\",\n        \"description\": \"\"\n      }\n    },\n    {\n      \"column\": \"Year\",\n      \"properties\": {\n        \"dtype\": \"number\",\n        \"std\": 3,\n        \"min\": 1996,\n        \"max\": 2019,\n        \"num_unique_values\": 20,\n        \"samples\": [\n          2014,\n          2004,\n          2003\n        ],\n        \"semantic_type\": \"\",\n        \"description\": \"\"\n      }\n    },\n    {\n      \"column\": \"Kilometers_Driven\",\n      \"properties\": {\n        \"dtype\": \"number\",\n        \"std\": 35598,\n        \"min\": 1000,\n        \"max\": 350000,\n        \"num_unique_values\": 755,\n        \"samples\": [\n          170000,\n          72002,\n          32000\n        ],\n        \"semantic_type\": \"\",\n        \"description\": \"\"\n      }\n    },\n    {\n      \"column\": \"Fuel_Type\",\n      \"properties\": {\n        \"dtype\": \"category\",\n        \"num_unique_values\": 4,\n        \"samples\": [\n          \"Petrol\",\n          \"LPG\",\n          \"CNG\"\n        ],\n        \"semantic_type\": \"\",\n        \"description\": \"\"\n      }\n    },\n    {\n      \"column\": \"Transmission\",\n      \"properties\": {\n        \"dtype\": \"category\",\n        \"num_unique_values\": 2,\n        \"samples\": [\n          \"Automatic\",\n          \"Manual\"\n        ],\n        \"semantic_type\": \"\",\n        \"description\": \"\"\n      }\n    },\n    {\n      \"column\": \"Owner_Type\",\n      \"properties\": {\n        \"dtype\": \"category\",\n        \"num_unique_values\": 4,\n        \"samples\": [\n          \"Second\",\n          \"Fourth & Above\"\n        ],\n        \"semantic_type\": \"\",\n        \"description\": \"\"\n      }\n    },\n    {\n      \"column\": \"Mileage\",\n      \"properties\": {\n        \"dtype\": \"category\",\n        \"num_unique_values\": 301,\n        \"samples\": [\n          \"14.24 kmpl\",\n          \"11.18 kmpl\"\n        ],\n        \"semantic_type\": \"\",\n        \"description\": \"\"\n      }\n    },\n    {\n      \"column\": \"Engine\",\n      \"properties\": {\n        \"dtype\": \"category\",\n        \"num_unique_values\": 104,\n        \"samples\": [\n          \"1196 CC\",\n          \"5998 CC\"\n        ],\n        \"semantic_type\": \"\",\n        \"description\": \"\"\n      }\n    },\n    {\n      \"column\": \"Power\",\n      \"properties\": {\n        \"dtype\": \"category\",\n        \"num_unique_values\": 249,\n        \"samples\": [\n          \"164.7 bhp\",\n          \"168.7 bhp\"\n        ],\n        \"semantic_type\": \"\",\n        \"description\": \"\"\n      }\n    },\n    {\n      \"column\": \"Seats\",\n      \"properties\": {\n        \"dtype\": \"number\",\n        \"std\": 0.8256217828188595,\n        \"min\": 2.0,\n        \"max\": 10.0,\n        \"num_unique_values\": 7,\n        \"samples\": [\n          4.0,\n          5.0\n        ],\n        \"semantic_type\": \"\",\n        \"description\": \"\"\n      }\n    },\n    {\n      \"column\": \"New_Price\",\n      \"properties\": {\n        \"dtype\": \"category\",\n        \"num_unique_values\": 162,\n        \"samples\": [\n          \"7.06 Lakh\",\n          \"4.02 Lakh\"\n        ],\n        \"semantic_type\": \"\",\n        \"description\": \"\"\n      }\n    }\n  ]\n}"
            }
          },
          "metadata": {},
          "execution_count": 3
        }
      ]
    },
    {
      "cell_type": "code",
      "source": [
        "df.shape"
      ],
      "metadata": {
        "colab": {
          "base_uri": "https://localhost:8080/"
        },
        "id": "8GW-99KxLzhb",
        "outputId": "56f3f08c-3823-451b-89d6-8a1d943fad89"
      },
      "execution_count": null,
      "outputs": [
        {
          "output_type": "execute_result",
          "data": {
            "text/plain": [
              "(1234, 13)"
            ]
          },
          "metadata": {},
          "execution_count": 4
        }
      ]
    },
    {
      "cell_type": "code",
      "source": [
        "df.isnull().sum()"
      ],
      "metadata": {
        "colab": {
          "base_uri": "https://localhost:8080/"
        },
        "id": "j0nC96rNMcpN",
        "outputId": "bc8230fe-6d8a-4467-9276-ddb96a411af0"
      },
      "execution_count": null,
      "outputs": [
        {
          "output_type": "execute_result",
          "data": {
            "text/plain": [
              "Unnamed: 0              0\n",
              "Name                    0\n",
              "Location                0\n",
              "Year                    0\n",
              "Kilometers_Driven       0\n",
              "Fuel_Type               0\n",
              "Transmission            0\n",
              "Owner_Type              0\n",
              "Mileage                 0\n",
              "Engine                 10\n",
              "Power                  10\n",
              "Seats                  11\n",
              "New_Price            1052\n",
              "dtype: int64"
            ]
          },
          "metadata": {},
          "execution_count": 6
        }
      ]
    },
    {
      "cell_type": "code",
      "source": [
        "import pandas as pd\n",
        "import matplotlib.pyplot as plt\n",
        "\n",
        "\n",
        "\n",
        "# Count the occurrences of each fuel type\n",
        "fuel_type_counts = df['Fuel_Type'].value_counts()\n",
        "\n",
        "# Get the most preferred fuel type (assuming higher count indicates preference)\n",
        "most_preferred_fuel_type = fuel_type_counts.idxmax()\n",
        "count_of_most_preferred = fuel_type_counts.max()\n",
        "\n",
        "# Print the results\n",
        "print(\"Most Preferred Fuel Type:\", most_preferred_fuel_type)\n",
        "print(\"Number of Cars Preferring\", most_preferred_fuel_type, \":\", count_of_most_preferred)\n",
        "\n",
        "# Alternatively, you can plot a bar chart to visualize the distribution\n",
        "fuel_type_counts.plot(kind='bar')\n",
        "plt.xlabel(\"Fuel Type\")\n",
        "plt.ylabel(\"Number of Cars\")\n",
        "plt.title(\"Distribution of Fuel Types\")\n",
        "plt.show()\n"
      ],
      "metadata": {
        "colab": {
          "base_uri": "https://localhost:8080/",
          "height": 535
        },
        "id": "U8G6qSkAPssr",
        "outputId": "d00291e9-c23c-48f9-9955-643a7493af2c"
      },
      "execution_count": null,
      "outputs": [
        {
          "output_type": "stream",
          "name": "stdout",
          "text": [
            "Most Preferred Fuel Type: Diesel\n",
            "Number of Cars Preferring Diesel : 647\n"
          ]
        },
        {
          "output_type": "display_data",
          "data": {
            "text/plain": [
              "<Figure size 640x480 with 1 Axes>"
            ],
            "image/png": "[encoded data removed]"
          },
          "metadata": {}
        }
      ]
    },
    {
      "cell_type": "code",
      "source": [
        "# Assuming the ownership information is in the 'Owner_Type' column\n",
        "\n",
        "# Count occurrences of each ownership type\n",
        "ownership_counts = df['Owner_Type'].value_counts()\n",
        "\n",
        "# Print the results\n",
        "print(\"Distribution of Ownership Types:\")\n",
        "print(ownership_counts)\n",
        "\n",
        "# You can further analyze the proportion or percentage of each ownership type\n"
      ],
      "metadata": {
        "colab": {
          "base_uri": "https://localhost:8080/"
        },
        "id": "kZeFXMwHP-ZQ",
        "outputId": "4e5dce4a-fcbe-4a79-bb88-165e68d1412d"
      },
      "execution_count": null,
      "outputs": [
        {
          "output_type": "stream",
          "name": "stdout",
          "text": [
            "Distribution of Ownership Types:\n",
            "Owner_Type\n",
            "First             1023\n",
            "Second             184\n",
            "Third               24\n",
            "Fourth & Above       3\n",
            "Name: count, dtype: int64\n"
          ]
        }
      ]
    },
    {
      "cell_type": "code",
      "source": [
        "import pandas as pd\n",
        "\n",
        "# Assuming the data is loaded into a pandas dataframe named 'df'\n",
        "\n",
        "# Count the occurrences of each number of seats\n",
        "seat_counts = df['Seats'].value_counts()\n",
        "\n",
        "# Get the most preferred number of seats (assuming higher count indicates preference)\n",
        "most_preferred_seats = seat_counts.idxmax()\n",
        "count_of_most_preferred = seat_counts.max()\n",
        "\n",
        "# Print the results\n",
        "print(\"Most Preferred Number of Seats:\", most_preferred_seats)\n",
        "print(\"Number of Cars Preferring\", most_preferred_seats, \"Seats:\", count_of_most_preferred)\n",
        "\n",
        "# Alternatively, you can plot a bar chart to visualize the distribution\n",
        "seat_counts.plot(kind='bar')\n",
        "plt.xlabel(\"Number of Seats\")\n",
        "plt.ylabel(\"Number of Cars\")\n",
        "plt.title(\"Distribution of Preferred Seats\")\n",
        "plt.show()\n"
      ],
      "metadata": {
        "colab": {
          "base_uri": "https://localhost:8080/",
          "height": 523
        },
        "id": "OdW-ulwaQdbz",
        "outputId": "381e7b34-a2dd-4240-d7b3-640936682bc9"
      },
      "execution_count": null,
      "outputs": [
        {
          "output_type": "stream",
          "name": "stdout",
          "text": [
            "Most Preferred Number of Seats: 5.0\n",
            "Number of Cars Preferring 5.0 Seats: 1033\n"
          ]
        },
        {
          "output_type": "display_data",
          "data": {
            "text/plain": [
              "<Figure size 640x480 with 1 Axes>"
            ],
            "image/png": "[encoded data removed]"
          },
          "metadata": {}
        }
      ]
    },
    {
      "cell_type": "code",
      "source": [
        "import pandas as pd\n",
        "\n",
        "# Assuming the data is loaded into a pandas dataframe named 'df'\n",
        "\n",
        "# Group data by year and calculate the number of cars sold each year\n",
        "cars_sold_by_year = df.groupby('Year')['Year'].count()\n",
        "\n",
        "# Get the year with the most cars sold\n",
        "year_of_highest_sales = cars_sold_by_year.idxmax()\n",
        "number_of_cars_sold = cars_sold_by_year.max()\n",
        "\n",
        "# Print the results\n",
        "print(\"Year with the Most Cars Sold:\", year_of_highest_sales)\n",
        "print(\"Number of Cars Sold:\", number_of_cars_sold)\n"
      ],
      "metadata": {
        "colab": {
          "base_uri": "https://localhost:8080/"
        },
        "id": "tYvNmZbwQxcS",
        "outputId": "3164bf68-c888-42e3-a16a-000069f9da6d"
      },
      "execution_count": null,
      "outputs": [
        {
          "output_type": "stream",
          "name": "stdout",
          "text": [
            "Year with the Most Cars Sold: 2015\n",
            "Number of Cars Sold: 185\n"
          ]
        }
      ]
    },
    {
      "cell_type": "code",
      "source": [
        "df['Engine'].dtypes"
      ],
      "metadata": {
        "colab": {
          "base_uri": "https://localhost:8080/"
        },
        "id": "bmGO9u0UUnRv",
        "outputId": "22d8dedf-a868-4b59-a63d-e2d6b85f1dad"
      },
      "execution_count": null,
      "outputs": [
        {
          "output_type": "execute_result",
          "data": {
            "text/plain": [
              "dtype('float64')"
            ]
          },
          "metadata": {},
          "execution_count": 27
        }
      ]
    },
    {
      "cell_type": "code",
      "source": [
        "df['Engine'].describe()"
      ],
      "metadata": {
        "colab": {
          "base_uri": "https://localhost:8080/"
        },
        "id": "Zo9t5fD4U6P7",
        "outputId": "015e5b26-95d9-4f05-edb0-56b55056e71c"
      },
      "execution_count": null,
      "outputs": [
        {
          "output_type": "execute_result",
          "data": {
            "text/plain": [
              "count    0.0\n",
              "mean     NaN\n",
              "std      NaN\n",
              "min      NaN\n",
              "25%      NaN\n",
              "50%      NaN\n",
              "75%      NaN\n",
              "max      NaN\n",
              "Name: Engine, dtype: float64"
            ]
          },
          "metadata": {},
          "execution_count": 28
        }
      ]
    },
    {
      "cell_type": "code",
      "source": [
        "import pandas as pd\n",
        "\n",
        "# Assuming the data is loaded into a pandas dataframe named 'df'\n",
        "\n",
        "# Group data by city and calculate the number of cars sold in each city\n",
        "cars_sold_by_city = df.groupby('Location')['Location'].count()\n",
        "\n",
        "# Get the city with the most cars sold\n",
        "city_of_highest_sales = cars_sold_by_city.idxmax()\n",
        "number_of_cars_sold = cars_sold_by_city.max()\n",
        "\n",
        "# Print the results\n",
        "print(\"City with the Most Cars Sold:\", city_of_highest_sales)\n",
        "print(\"Number of Cars Sold:\", number_of_cars_sold)\n"
      ],
      "metadata": {
        "colab": {
          "base_uri": "https://localhost:8080/"
        },
        "id": "yJIAnDNvVZoL",
        "outputId": "ce372c5e-8fd6-4ab7-bb45-9fff1c117651"
      },
      "execution_count": null,
      "outputs": [
        {
          "output_type": "stream",
          "name": "stdout",
          "text": [
            "City with the Most Cars Sold: Mumbai\n",
            "Number of Cars Sold: 159\n"
          ]
        }
      ]
    },
    {
      "cell_type": "code",
      "source": [
        "import pandas as pd\n",
        "\n",
        "# Assuming the data is loaded into a pandas dataframe named 'df'\n",
        "\n",
        "# Group data by city and calculate the number of cars sold in each city\n",
        "cars_sold_by_city = df.groupby('Location')['Location'].count()\n",
        "\n",
        "# Get the city with the least cars sold (assuming positive sales values)\n",
        "city_of_least_sales = cars_sold_by_city.idxmin()\n",
        "number_of_cars_sold = cars_sold_by_city.min()\n",
        "\n",
        "# Print the results\n",
        "print(\"City with the Least Cars Sold:\", city_of_least_sales)\n",
        "print(\"Number of Cars Sold:\", number_of_cars_sold)\n"
      ],
      "metadata": {
        "colab": {
          "base_uri": "https://localhost:8080/"
        },
        "id": "6nU7_48LV46x",
        "outputId": "b0307108-2764-497b-a6cb-601a9422a703"
      },
      "execution_count": null,
      "outputs": [
        {
          "output_type": "stream",
          "name": "stdout",
          "text": [
            "City with the Least Cars Sold: Ahmedabad\n",
            "Number of Cars Sold: 51\n"
          ]
        }
      ]
    },
    {
      "cell_type": "code",
      "source": [
        "print(df['Engine'].dtypes)\n",
        "print(df['Power'].dtypes)\n"
      ],
      "metadata": {
        "colab": {
          "base_uri": "https://localhost:8080/"
        },
        "id": "mSo48ErMZPvs",
        "outputId": "d226bafb-d3c1-437d-88b3-3c8d66839caf"
      },
      "execution_count": null,
      "outputs": [
        {
          "output_type": "stream",
          "name": "stdout",
          "text": [
            "float64\n",
            "object\n"
          ]
        }
      ]
    },
    {
      "cell_type": "code",
      "source": [
        "# Assuming 'df' is your dataframe\n",
        "mileage_dtype = df['Mileage'].dtype\n",
        "\n",
        "print(\"Data type of 'Mileage' column:\", mileage_dtype)\n"
      ],
      "metadata": {
        "colab": {
          "base_uri": "https://localhost:8080/"
        },
        "id": "LA8hGddMZt5f",
        "outputId": "dd8b0fdd-a0c4-4edb-9025-81fd1d714e3d"
      },
      "execution_count": null,
      "outputs": [
        {
          "output_type": "stream",
          "name": "stdout",
          "text": [
            "Data type of 'Mileage' column: object\n"
          ]
        }
      ]
    },
    {
      "cell_type": "code",
      "source": [
        "import pandas as pd\n",
        "\n",
        "# Assuming 'df' is your dataframe\n",
        "\n",
        "# Define a function for cleaning and converting mileage values\n",
        "def clean_and_convert_mileage(mileage_text):\n",
        "  \"\"\"\n",
        "  This function cleans and converts mileage text to numeric values.\n",
        "\n",
        "  Args:\n",
        "      mileage_text (str): The text value from the 'Mileage' column.\n",
        "\n",
        "  Returns:\n",
        "      float: The cleaned and converted numeric value (or None if conversion fails).\n",
        "  \"\"\"\n",
        "  # Remove unwanted characters (e.g., \"km/l\", \"km/kg\")\n",
        "  cleaned_value = mileage_text.split()[0].replace(\",\", \"\")  # Split, get first part, remove commas\n",
        "\n",
        "  # Attempt conversion to float\n",
        "  try:\n",
        "    return float(cleaned_value)\n",
        "  except:\n",
        "    return None  # Handle conversion errors (e.g., invalid text)\n",
        "\n",
        "# Apply the cleaning and conversion function to the 'Mileage' column\n",
        "df['Mileage_Numeric'] = df['Mileage'].apply(clean_and_convert_mileage)\n",
        "\n",
        "# Handle missing values (optional)\n",
        "# You can choose one of these approaches:\n",
        "# Option 1: Drop rows with missing values (if errors are concentrated and not critical)\n",
        "# df.dropna(subset=['Mileage_Numeric'], inplace=True)\n",
        "\n",
        "# Option 2: Impute missing values (e.g., with mean/median) using methods like:\n",
        "# df['Mileage_Numeric'].fillna(df['Mileage_Numeric'].mean(), inplace=True)\n",
        "\n",
        "# Explore data further (optional)\n",
        "# You can use 'df['Mileage_Numeric']' for numerical analysis\n"
      ],
      "metadata": {
        "id": "YR_aLO1GafDU"
      },
      "execution_count": null,
      "outputs": []
    },
    {
      "cell_type": "code",
      "source": [
        "# Assuming 'df' is your dataframe\n",
        "print(df['Mileage_Numeric'].describe())\n"
      ],
      "metadata": {
        "colab": {
          "base_uri": "https://localhost:8080/"
        },
        "id": "onZ3T8fbaqTh",
        "outputId": "a5376b22-5823-4597-c272-b093c81fca52"
      },
      "execution_count": null,
      "outputs": [
        {
          "output_type": "stream",
          "name": "stdout",
          "text": [
            "count    1234.000000\n",
            "mean       18.173857\n",
            "std         4.464615\n",
            "min         0.000000\n",
            "25%        15.215000\n",
            "50%        18.250000\n",
            "75%        21.100000\n",
            "max        32.260000\n",
            "Name: Mileage_Numeric, dtype: float64\n"
          ]
        }
      ]
    },
    {
      "cell_type": "code",
      "source": [
        "import matplotlib.pyplot as plt\n",
        "\n",
        "plt.hist(df['Mileage_Numeric'])\n",
        "plt.xlabel('Mileage (numeric)')\n",
        "plt.ylabel('Frequency')\n",
        "plt.title('Distribution of Mileage')\n",
        "plt.show()\n",
        "\n",
        "plt.boxplot(df['Mileage_Numeric'])\n",
        "plt.xlabel('Mileage (numeric)')\n",
        "plt.ylabel('Value')\n",
        "plt.title('Distribution of Mileage (Box Plot)')\n",
        "plt.show()\n"
      ],
      "metadata": {
        "id": "igdHVZOHawKb",
        "outputId": "3f6a7d7e-f446-4492-f60f-5304fe65bfaa",
        "colab": {
          "base_uri": "https://localhost:8080/",
          "height": 927
        }
      },
      "execution_count": null,
      "outputs": [
        {
          "output_type": "display_data",
          "data": {
            "text/plain": [
              "<Figure size 640x480 with 1 Axes>"
            ],
            "image/png": "[encoded data removed]"
          },
          "metadata": {}
        },
        {
          "output_type": "display_data",
          "data": {
            "text/plain": [
              "<Figure size 640x480 with 1 Axes>"
            ],
            "image/png": "[encoded data removed]"
          },
          "metadata": {}
        }
      ]
    },
    {
      "cell_type": "code",
      "source": [
        "import pandas as pd\n",
        "\n",
        "# Assuming 'df' is your dataframe containing a 'Mileage' column\n",
        "\n",
        "# Define a function for cleaning and converting mileage values\n",
        "def clean_and_convert_mileage(mileage_text):\n",
        "  \"\"\"\n",
        "  This function cleans and converts mileage text to numeric values.\n",
        "\n",
        "  Args:\n",
        "      mileage_text (str): The text value from the 'Mileage' column.\n",
        "\n",
        "  Returns:\n",
        "      float: The cleaned and converted numeric value (or None if conversion fails).\n",
        "  \"\"\"\n",
        "  # Remove unwanted characters (e.g., \"kmph\", \"km/kg\")\n",
        "  cleaned_value = mileage_text.split()[0].replace(\",\", \"\")  # Split, get first part, remove commas\n",
        "\n",
        "  # Attempt conversion to float\n",
        "  try:\n",
        "    return float(cleaned_value)\n",
        "  except:\n",
        "    return None  # Handle conversion errors (e.g., invalid text)\n",
        "\n",
        "# Apply the cleaning and conversion function to the 'Mileage' column\n",
        "df['Mileage_Numeric'] = df['Mileage'].apply(clean_and_convert_mileage)\n",
        "\n",
        "# Handle missing values (optional)\n",
        "# You can choose one of these approaches:\n",
        "# Option 1: Drop rows with missing values (if errors are concentrated and not critical)\n",
        "# df.dropna(subset=['Mileage_Numeric'], inplace=True)\n",
        "\n",
        "# Option 2: Impute missing values (e.g., with mean/median) using methods like:\n",
        "# df['Mileage_Numeric'].fillna(df['Mileage_Numeric'].mean(), inplace=True)\n",
        "\n",
        "# Calculate average mileage (assuming 'Mileage_Numeric' is numeric now)\n",
        "average_mileage = df['Mileage_Numeric'].mean()\n",
        "\n",
        "# Print the results\n",
        "print(\"Average Mileage:\", average_mileage)\n",
        "\n",
        "\n"
      ],
      "metadata": {
        "colab": {
          "base_uri": "https://localhost:8080/"
        },
        "id": "Uf1YIS5sf4JX",
        "outputId": "2a1f9325-510f-4f76-f70b-7271dfe0f9fb"
      },
      "execution_count": null,
      "outputs": [
        {
          "output_type": "stream",
          "name": "stdout",
          "text": [
            "Average Mileage: 18.17385737439222\n"
          ]
        }
      ]
    },
    {
      "cell_type": "code",
      "source": [
        "import numpy as np  # Import NumPy for error handling\n",
        "\n",
        "def clean_and_convert_columns(row):\n",
        "    \"\"\"\n",
        "    This function cleans and converts 'Engine Power' and 'Mileage' columns to numeric values.\n",
        "\n",
        "    Args:\n",
        "        row (pandas.Series): A row from the dataframe.\n",
        "\n",
        "    Returns:\n",
        "        pandas.Series: The cleaned row with numeric values.\n",
        "    \"\"\"\n",
        "    try:\n",
        "        engine_power = pd.to_numeric(row['Engine Power'].split()[0], errors='coerce')  # Handle errors\n",
        "        mileage = pd.to_numeric(row['Mileage'].split()[0].replace(\",\", \"\"), errors='coerce')\n",
        "        return pd.Series({'Engine Power': engine_power, 'Mileage': mileage})\n",
        "    except:\n",
        "        # Handle other potential errors\n",
        "        return pd.Series({'Engine Power': None, 'Mileage': None})  # Example handling\n"
      ],
      "metadata": {
        "id": "WkfpteeFY_Np"
      },
      "execution_count": null,
      "outputs": []
    },
    {
      "cell_type": "code",
      "source": [
        "import numpy as np  # Import NumPy for error handling\n",
        "\n",
        "def clean_and_convert_columns(row):\n",
        "    \"\"\"\n",
        "    This function cleans and converts 'Engine Power' and 'Mileage' columns to numeric values.\n",
        "\n",
        "    Args:\n",
        "        row (pandas.Series): A row from the dataframe.\n",
        "\n",
        "    Returns:\n",
        "        pandas.Series: The cleaned row with numeric values.\n",
        "    \"\"\"\n",
        "    try:\n",
        "        engine_power = pd.to_numeric(row['Engine Power'].split()[0], errors='coerce')  # Handle errors\n",
        "        mileage = pd.to_numeric(row['Mileage'].split()[0].replace(\",\", \"\"), errors='coerce')\n",
        "        return pd.Series({'Engine Power': engine_power, 'Mileage': mileage})\n",
        "    except:\n",
        "        # Handle other potential errors\n",
        "        return pd.Series({'Engine Power': None, 'Mileage': None})  # Example handling\n"
      ],
      "metadata": {
        "id": "KL1GENWoblBC"
      },
      "execution_count": null,
      "outputs": []
    },
    {
      "cell_type": "code",
      "source": [
        "import pandas as pd\n",
        "import matplotlib.pyplot as plt\n",
        "\n",
        "# Read the data from a CSV file (replace 'your_data.csv' with the actual filename)\n",
        "data = pd.read_csv('test-data.csv')\n",
        "\n",
        "# Function to clean and convert 'Engine' and 'Mileage' columns\n",
        "def clean_and_convert_columns(row):\n",
        "    \"\"\"\n",
        "    This function cleans and converts 'Engine' and 'Mileage' columns to numeric values.\n",
        "\n",
        "    Args:\n",
        "        row (pandas.Series): A row from the dataframe.\n",
        "\n",
        "    Returns:\n",
        "        pandas.Series: The cleaned row with numeric values.\n",
        "    \"\"\"\n",
        "    try:\n",
        "        # Check if 'Engine' is already numeric, if not, proceed with cleaning\n",
        "        if not isinstance(row['Engine'], (int, float)):\n",
        "            engine_power = float(row['Engine'].split()[0]) # Changed 'Engine Power' to 'Engine'\n",
        "        else:\n",
        "            engine_power = row['Engine'] # Keep existing numeric value\n",
        "\n",
        "        # Remove unwanted characters and convert 'Mileage' to numeric (assuming 'kmpl' unit)\n",
        "        mileage = float(row['Mileage'].split()[0].replace(\",\", \"\"))\n",
        "        return pd.Series({'Engine Power': engine_power, 'Mileage': mileage})\n",
        "    except ValueError:\n",
        "        # Handle missing or invalid values (consider returning None or imputing)\n",
        "        return pd.Series({'Engine Power': None, 'Mileage': None})  # Example handling\n",
        "\n",
        "# Apply cleaning and conversion function to each row IF 'Engine' is not already numeric\n",
        "if not data['Engine'].dtype in ['int64', 'float64']:\n",
        "    data[['Engine Power', 'Mileage']] = data.apply(clean_and_convert_columns, axis=1)\n",
        "\n",
        "# ... (Rest of your code remains the same)"
      ],
      "metadata": {
        "id": "_UzzetK_dCbL"
      },
      "execution_count": 9,
      "outputs": []
    },
    {
      "cell_type": "code",
      "source": [
        "import pandas as pd\n",
        "\n",
        "\n",
        "# Define a function for cleaning and converting text values\n",
        "def clean_and_convert_column(column_text):\n",
        "    \"\"\"\n",
        "    This function cleans and converts text values to numeric values.\n",
        "\n",
        "    Args:\n",
        "        column_text (str): The text value from a column.\n",
        "\n",
        "    Returns:\n",
        "        float: The cleaned and converted numeric value (or None if conversion fails).\n",
        "    \"\"\"\n",
        "    # Handle the case where the value is already numeric\n",
        "    if isinstance(column_text, (int, float)):\n",
        "        return column_text\n",
        "\n",
        "    # Remove unwanted characters (adjust based on column format)\n",
        "    cleaned_value = column_text.split()[0].replace(\",\", \"\")\n",
        "\n",
        "    # Attempt conversion to float\n",
        "    try:\n",
        "        return float(cleaned_value)\n",
        "    except:\n",
        "        return None  # Handle conversion errors\n",
        "\n",
        "\n",
        "\n",
        "# Clean and convert 'Mileage' and 'Power' columns\n",
        "data['Mileage_Numeric'] = data['Mileage'].apply(clean_and_convert_column)\n",
        "data['Power_Numeric'] = data['Power'].apply(clean_and_convert_column)\n",
        "\n",
        "# Print a sample of the cleaned DataFrame (optional)\n",
        "print(\"Sample of Cleaned DataFrame:\")\n",
        "print(data.head())"
      ],
      "metadata": {
        "colab": {
          "base_uri": "https://localhost:8080/"
        },
        "id": "Nj-5UjnbhHmf",
        "outputId": "e16eaf5b-9334-4e0b-a5c6-f60f43587676"
      },
      "execution_count": 10,
      "outputs": [
        {
          "output_type": "stream",
          "name": "stdout",
          "text": [
            "Sample of Cleaned DataFrame:\n",
            "   Unnamed: 0                                       Name    Location  Year  \\\n",
            "0           0                    Maruti Alto K10 LXI CNG       Delhi  2014   \n",
            "1           1              Maruti Alto 800 2016-2019 LXI  Coimbatore  2013   \n",
            "2           2  Toyota Innova Crysta Touring Sport 2.4 MT      Mumbai  2017   \n",
            "3           3                       Toyota Etios Liva GD   Hyderabad  2012   \n",
            "4           4                          Hyundai i20 Magna      Mumbai  2014   \n",
            "\n",
            "   Kilometers_Driven Fuel_Type Transmission Owner_Type  Mileage   Engine  \\\n",
            "0              40929       CNG       Manual      First    32.26   998 CC   \n",
            "1              54493    Petrol       Manual     Second    24.70   796 CC   \n",
            "2              34000    Diesel       Manual      First    13.68  2393 CC   \n",
            "3             139000    Diesel       Manual      First    23.59  1364 CC   \n",
            "4              29000    Petrol       Manual      First    18.50  1197 CC   \n",
            "\n",
            "       Power  Seats   New_Price  Engine Power  Mileage_Numeric  Power_Numeric  \n",
            "0   58.2 bhp    4.0         NaN         998.0            32.26          58.20  \n",
            "1   47.3 bhp    5.0         NaN         796.0            24.70          47.30  \n",
            "2  147.8 bhp    7.0  25.27 Lakh        2393.0            13.68         147.80  \n",
            "3   null bhp    5.0         NaN        1364.0            23.59            NaN  \n",
            "4  82.85 bhp    5.0         NaN        1197.0            18.50          82.85  \n"
          ]
        }
      ]
    },
    {
      "cell_type": "code",
      "source": [
        "# Calculate the correlation matrix\n",
        "correlation_matrix = data[['Mileage_Numeric', 'Power_Numeric']].corr()\n",
        "\n",
        "# Print the correlation matrix\n",
        "print(correlation_matrix)"
      ],
      "metadata": {
        "colab": {
          "base_uri": "https://localhost:8080/"
        },
        "id": "yQv3ghMyhfOA",
        "outputId": "a0b1cb63-d15b-45ab-ae0b-7cf5a14a8bee"
      },
      "execution_count": null,
      "outputs": [
        {
          "output_type": "stream",
          "name": "stdout",
          "text": [
            "                 Mileage_Numeric  Power_Numeric\n",
            "Mileage_Numeric          1.00000       -0.50165\n",
            "Power_Numeric           -0.50165        1.00000\n"
          ]
        }
      ]
    },
    {
      "cell_type": "code",
      "source": [
        "import matplotlib.pyplot as plt\n",
        "import seaborn as sns\n",
        "\n",
        "# Create a scatter plot with a regression line\n",
        "sns.lmplot(x='Mileage_Numeric', y='Power_Numeric', data=data)\n",
        "plt.xlabel('Mileage')\n",
        "plt.ylabel('Power')\n",
        "plt.title('Correlation between Mileage and Power')\n",
        "plt.show()"
      ],
      "metadata": {
        "colab": {
          "base_uri": "https://localhost:8080/",
          "height": 529
        },
        "id": "QVyRoZ9NhmCM",
        "outputId": "27f82764-f1d8-431a-c722-c3bd61ef066d"
      },
      "execution_count": null,
      "outputs": [
        {
          "output_type": "display_data",
          "data": {
            "text/plain": [
              "<Figure size 500x500 with 1 Axes>"
            ],
            "image/png": "[encoded data removed]"
          },
          "metadata": {}
        }
      ]
    },
    {
      "cell_type": "code",
      "source": [
        "# Check for missing values in specific columns\n",
        "missing_values = data[['Engine Power', 'Power_Numeric', 'Mileage_Numeric']].isnull().sum()\n",
        "\n",
        "print(missing_values)"
      ],
      "metadata": {
        "colab": {
          "base_uri": "https://localhost:8080/"
        },
        "id": "e29DNeSBiWtb",
        "outputId": "eb645e35-11f2-4077-84ba-5fbf2b115730"
      },
      "execution_count": null,
      "outputs": [
        {
          "output_type": "stream",
          "name": "stdout",
          "text": [
            "Engine Power       10\n",
            "Power_Numeric      32\n",
            "Mileage_Numeric     0\n",
            "dtype: int64\n"
          ]
        }
      ]
    },
    {
      "cell_type": "code",
      "source": [
        "# Calculate the correlation matrix\n",
        "correlation_matrix = data[['Engine Power', 'Mileage_Numeric', 'Power_Numeric']].corr()\n",
        "\n",
        "# Print the correlation matrix\n",
        "print(correlation_matrix)"
      ],
      "metadata": {
        "colab": {
          "base_uri": "https://localhost:8080/"
        },
        "id": "N7j5CRt5ivPg",
        "outputId": "f2f7d66b-9077-4e06-a1d0-a6163d850341"
      },
      "execution_count": null,
      "outputs": [
        {
          "output_type": "stream",
          "name": "stdout",
          "text": [
            "                 Engine Power  Mileage_Numeric  Power_Numeric\n",
            "Engine Power         1.000000        -0.572604       0.824727\n",
            "Mileage_Numeric     -0.572604         1.000000      -0.501650\n",
            "Power_Numeric        0.824727        -0.501650       1.000000\n"
          ]
        }
      ]
    },
    {
      "cell_type": "code",
      "source": [
        "import seaborn as sns\n",
        "import matplotlib.pyplot as plt\n",
        "\n",
        "# Calculate the correlation matrix\n",
        "correlation_matrix = data[['Engine Power', 'Mileage_Numeric', 'Power_Numeric']].corr()\n",
        "\n",
        "# Create a heatmap\n",
        "plt.figure(figsize=(8, 6))  # Adjust figure size if needed\n",
        "sns.heatmap(correlation_matrix, annot=True, cmap='coolwarm', vmin=-1, vmax=1)\n",
        "plt.title('Correlation Matrix')\n",
        "plt.show()"
      ],
      "metadata": {
        "colab": {
          "base_uri": "https://localhost:8080/",
          "height": 545
        },
        "id": "bHxPn2O-i3io",
        "outputId": "ee0d1224-8ce1-457a-8d2a-c4ab18a5b7ea"
      },
      "execution_count": null,
      "outputs": [
        {
          "output_type": "display_data",
          "data": {
            "text/plain": [
              "<Figure size 800x600 with 2 Axes>"
            ],
            "image/png": "[encoded data removed]"
          },
          "metadata": {}
        }
      ]
    },
    {
      "cell_type": "code",
      "source": [
        "import pandas as pd\n",
        "\n",
        "# Assuming you already have your data loaded into a DataFrame named 'data'\n",
        "\n",
        "# Option 1: Using `isnull().mean()`\n",
        "percentage_missing = df['New_Price'].isnull().mean() * 100\n",
        "\n",
        "\n",
        "\n",
        "print(f\"Percentage of missing data in 'New_Price': {percentage_missing:.2f}%\")\n",
        "\n"
      ],
      "metadata": {
        "colab": {
          "base_uri": "https://localhost:8080/"
        },
        "id": "spa-MuCaNG5g",
        "outputId": "fe4ff418-2027-4ef0-e20b-dbf77d9e01d4"
      },
      "execution_count": 6,
      "outputs": [
        {
          "output_type": "stream",
          "name": "stdout",
          "text": [
            "Percentage of missing data in 'New_Price': 85.25%\n"
          ]
        }
      ]
    },
    {
      "cell_type": "code",
      "source": [
        "import pandas as pd\n",
        "\n",
        "# Assuming you already have your data loaded into a DataFrame named 'data'\n",
        "\n",
        "# Drop rows with missing values in any of the specified columns\n",
        "data.dropna(subset=['Power_Numeric', 'Engine Power', 'Mileage_Numeric'], inplace=True)\n",
        "\n",
        "# Print a sample of the cleaned DataFrame (optional)\n",
        "print(\"Sample of Cleaned DataFrame:\")\n",
        "print(data.head())\n"
      ],
      "metadata": {
        "colab": {
          "base_uri": "https://localhost:8080/"
        },
        "id": "nPy3GdjxObJa",
        "outputId": "711c1b41-289b-47f6-cd86-ef7100a35964"
      },
      "execution_count": 13,
      "outputs": [
        {
          "output_type": "stream",
          "name": "stdout",
          "text": [
            "Sample of Cleaned DataFrame:\n",
            "   Unnamed: 0                                       Name    Location  Year  \\\n",
            "0           0                    Maruti Alto K10 LXI CNG       Delhi  2014   \n",
            "1           1              Maruti Alto 800 2016-2019 LXI  Coimbatore  2013   \n",
            "2           2  Toyota Innova Crysta Touring Sport 2.4 MT      Mumbai  2017   \n",
            "4           4                          Hyundai i20 Magna      Mumbai  2014   \n",
            "5           5                     Mahindra XUV500 W8 2WD  Coimbatore  2016   \n",
            "\n",
            "   Kilometers_Driven Fuel_Type Transmission Owner_Type  Mileage   Engine  \\\n",
            "0              40929       CNG       Manual      First    32.26   998 CC   \n",
            "1              54493    Petrol       Manual     Second    24.70   796 CC   \n",
            "2              34000    Diesel       Manual      First    13.68  2393 CC   \n",
            "4              29000    Petrol       Manual      First    18.50  1197 CC   \n",
            "5              85609    Diesel       Manual     Second    16.00  2179 CC   \n",
            "\n",
            "       Power  Seats   New_Price  Engine Power  Mileage_Numeric  Power_Numeric  \n",
            "0   58.2 bhp    4.0         NaN         998.0            32.26          58.20  \n",
            "1   47.3 bhp    5.0         NaN         796.0            24.70          47.30  \n",
            "2  147.8 bhp    7.0  25.27 Lakh        2393.0            13.68         147.80  \n",
            "4  82.85 bhp    5.0         NaN        1197.0            18.50          82.85  \n",
            "5    140 bhp    7.0         NaN        2179.0            16.00         140.00  \n"
          ]
        }
      ]
    },
    {
      "cell_type": "code",
      "source": [
        "import pandas as pd\n",
        "import matplotlib.pyplot as plt\n",
        "\n",
        "# Assuming you already have your data loaded into a DataFrame named 'data'\n",
        "\n",
        "# Select features and target variable\n",
        "X = data['Engine Power']  # Feature (engine power)\n",
        "y = data['Mileage_Numeric']  # Target variable (mileage)\n",
        "\n",
        "# Create the scatter plot\n",
        "plt.figure(figsize=(8, 6))\n",
        "plt.scatter(X, y)\n",
        "\n",
        "# Add labels and title\n",
        "plt.xlabel('Engine Power (Numeric)')\n",
        "plt.ylabel('Mileage (Numeric)')\n",
        "plt.title('Relationship between Engine Power and Mileage')\n",
        "\n",
        "# Optional: Add grid lines for better readability\n",
        "plt.grid(True)\n",
        "\n",
        "# Show the plot\n",
        "plt.show()\n"
      ],
      "metadata": {
        "colab": {
          "base_uri": "https://localhost:8080/",
          "height": 564
        },
        "id": "T5hXn-WaQZwP",
        "outputId": "fae4ce32-3388-4a2e-e8bd-508c8e7fa078"
      },
      "execution_count": 21,
      "outputs": [
        {
          "output_type": "display_data",
          "data": {
            "text/plain": [
              "<Figure size 800x600 with 1 Axes>"
            ],
            "image/png": "[encoded data removed]"
          },
          "metadata": {}
        }
      ]
    },
    {
      "cell_type": "code",
      "source": [
        "import pandas as pd\n",
        "\n",
        "# Assuming you already have your data loaded into a DataFrame named 'data'\n",
        "\n",
        "# Select the features\n",
        "engine_power = data['Engine Power']\n",
        "mileage = data['Mileage_Numeric']\n",
        "\n",
        "# Calculate the correlation coefficient\n",
        "correlation = engine_power.corr(mileage)\n",
        "\n",
        "# Print the correlation coefficient\n",
        "print(\"Correlation between engine power and mileage:\", correlation)\n"
      ],
      "metadata": {
        "colab": {
          "base_uri": "https://localhost:8080/"
        },
        "id": "ZNYEyayoR8fo",
        "outputId": "8aa6ee7c-292b-48de-85e3-0a6e0c3b0513"
      },
      "execution_count": 22,
      "outputs": [
        {
          "output_type": "stream",
          "name": "stdout",
          "text": [
            "Correlation between engine power and mileage: -0.6114389739544319\n"
          ]
        }
      ]
    }
  ]
}